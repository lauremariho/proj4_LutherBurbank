{
 "cells": [
  {
   "cell_type": "markdown",
   "id": "826a8a83-a6e4-4b3e-93e9-6b6f46becb7f",
   "metadata": {},
   "source": [
    "## Nutrient Demands\n",
    "\n"
   ]
  },
  {
   "cell_type": "markdown",
   "id": "97e1a220-2d15-4fbc-8e97-c13d336dd077",
   "metadata": {},
   "source": [
    "### Introduction\n",
    "\n"
   ]
  },
  {
   "cell_type": "markdown",
   "id": "a5763b03-de15-4181-8ed6-c586be69e0ca",
   "metadata": {},
   "source": [
    "In our last project we used data to estimate systems of food demand\n",
    "using different datasets.  An output from that project was as set of\n",
    "`cfe.Regression` objects; these bundle together both data and the results\n",
    "from the demand system estimation, and can be used for prediction as\n",
    "well.\n",
    "\n",
    "Here we&rsquo;ll explore some of the uses of the `cfe.Regression` class, using\n",
    "an instance created previously (as in Project 3).\n",
    "\n",
    "After having estimated a demand system using data from our favorite country, we can imagine different counterfactual scenarios.  What if prices were different?  What if we give a cash transfer to a household?  What if school fees reduce the budget for food?  What are the consequences of any of these for diet & nutrition?\n",
    "\n",
    "If you don&rsquo;t already have the latest version of the `CFEDemands` package\n",
    "installed, grab it, along with some dependencies:\n",
    "\n"
   ]
  },
  {
   "cell_type": "code",
   "execution_count": 4,
   "id": "1307d9b8-e2ee-4a92-892e-9a311af9b0c9",
   "metadata": {},
   "outputs": [
    {
     "name": "stdout",
     "output_type": "stream",
     "text": [
      "Collecting CFEDemands>=0.4.1 (from -r requirements.txt (line 5))\n",
      "  Downloading CFEDemands-0.6.1-py2.py3-none-any.whl.metadata (1.7 kB)\n",
      "Requirement already satisfied: gspread>=5.0.1 in /srv/conda/lib/python3.11/site-packages (from -r requirements.txt (line 7)) (5.12.4)\n",
      "Collecting gspread_pandas>=3.2.0 (from -r requirements.txt (line 8))\n",
      "  Using cached gspread_pandas-3.3.0-py2.py3-none-any.whl.metadata (10 kB)\n",
      "Collecting oauth2client>=4.1.3 (from -r requirements.txt (line 11))\n",
      "  Downloading oauth2client-4.1.3-py2.py3-none-any.whl.metadata (1.2 kB)\n",
      "Collecting eep153_tools>=0.11 (from -r requirements.txt (line 21))\n",
      "  Using cached eep153_tools-0.12.4-py2.py3-none-any.whl.metadata (363 bytes)\n",
      "Collecting python-gnupg (from -r requirements.txt (line 22))\n",
      "  Using cached python_gnupg-0.5.4-py2.py3-none-any.whl.metadata (2.0 kB)\n",
      "Collecting ConsumerDemands (from -r requirements.txt (line 24))\n",
      "  Using cached ConsumerDemands-0.4.3.dev0-py2.py3-none-any.whl.metadata (1.2 kB)\n",
      "Collecting dvc>=2.18.1 (from CFEDemands>=0.4.1->-r requirements.txt (line 5))\n",
      "  Downloading dvc-3.59.1-py3-none-any.whl.metadata (18 kB)\n",
      "Requirement already satisfied: joblib>=1.1.0 in /srv/conda/lib/python3.11/site-packages (from CFEDemands>=0.4.1->-r requirements.txt (line 5)) (1.4.2)\n",
      "Requirement already satisfied: matplotlib>=3.5.1 in /srv/conda/lib/python3.11/site-packages (from CFEDemands>=0.4.1->-r requirements.txt (line 5)) (3.10.1)\n",
      "Requirement already satisfied: numpy>=1.21.5 in /srv/conda/lib/python3.11/site-packages (from CFEDemands>=0.4.1->-r requirements.txt (line 5)) (2.2.4)\n",
      "Requirement already satisfied: pandas>=1.4.2 in /srv/conda/lib/python3.11/site-packages (from CFEDemands>=0.4.1->-r requirements.txt (line 5)) (2.2.3)\n",
      "Requirement already satisfied: pytest>=7.1.1 in /srv/conda/lib/python3.11/site-packages (from CFEDemands>=0.4.1->-r requirements.txt (line 5)) (8.3.5)\n",
      "Collecting ray>=2.0.0 (from CFEDemands>=0.4.1->-r requirements.txt (line 5))\n",
      "  Downloading ray-2.44.1-cp311-cp311-manylinux2014_x86_64.whl.metadata (19 kB)\n",
      "Requirement already satisfied: scipy>=1.7.3 in /srv/conda/lib/python3.11/site-packages (from CFEDemands>=0.4.1->-r requirements.txt (line 5)) (1.14.1)\n",
      "Requirement already satisfied: statsmodels>=0.13.2 in /srv/conda/lib/python3.11/site-packages (from CFEDemands>=0.4.1->-r requirements.txt (line 5)) (0.14.4)\n",
      "Requirement already satisfied: xarray>=0.20.1 in /srv/conda/lib/python3.11/site-packages (from CFEDemands>=0.4.1->-r requirements.txt (line 5)) (2025.1.1)\n",
      "Requirement already satisfied: google-auth>=1.12.0 in /srv/conda/lib/python3.11/site-packages (from gspread>=5.0.1->-r requirements.txt (line 7)) (2.38.0)\n",
      "Requirement already satisfied: google-auth-oauthlib>=0.4.1 in /srv/conda/lib/python3.11/site-packages (from gspread>=5.0.1->-r requirements.txt (line 7)) (1.2.1)\n",
      "Requirement already satisfied: decorator in /srv/conda/lib/python3.11/site-packages (from gspread_pandas>=3.2.0->-r requirements.txt (line 8)) (5.1.1)\n",
      "Requirement already satisfied: httplib2>=0.9.1 in /srv/conda/lib/python3.11/site-packages (from oauth2client>=4.1.3->-r requirements.txt (line 11)) (0.22.0)\n",
      "Requirement already satisfied: pyasn1>=0.1.7 in /srv/conda/lib/python3.11/site-packages (from oauth2client>=4.1.3->-r requirements.txt (line 11)) (0.6.1)\n",
      "Requirement already satisfied: pyasn1-modules>=0.0.5 in /srv/conda/lib/python3.11/site-packages (from oauth2client>=4.1.3->-r requirements.txt (line 11)) (0.4.2)\n",
      "Requirement already satisfied: rsa>=3.1.4 in /srv/conda/lib/python3.11/site-packages (from oauth2client>=4.1.3->-r requirements.txt (line 11)) (4.9)\n",
      "Requirement already satisfied: six>=1.6.1 in /srv/conda/lib/python3.11/site-packages (from oauth2client>=4.1.3->-r requirements.txt (line 11)) (1.17.0)\n",
      "Requirement already satisfied: attrs>=22.2.0 in /srv/conda/lib/python3.11/site-packages (from dvc>=2.18.1->CFEDemands>=0.4.1->-r requirements.txt (line 5)) (25.3.0)\n",
      "Collecting celery (from dvc>=2.18.1->CFEDemands>=0.4.1->-r requirements.txt (line 5))\n",
      "  Downloading celery-5.5.1-py3-none-any.whl.metadata (22 kB)\n",
      "Requirement already satisfied: colorama>=0.3.9 in /srv/conda/lib/python3.11/site-packages (from dvc>=2.18.1->CFEDemands>=0.4.1->-r requirements.txt (line 5)) (0.4.6)\n",
      "Collecting configobj>=5.0.9 (from dvc>=2.18.1->CFEDemands>=0.4.1->-r requirements.txt (line 5))\n",
      "  Downloading configobj-5.0.9-py2.py3-none-any.whl.metadata (3.2 kB)\n",
      "Requirement already satisfied: distro>=1.3 in /srv/conda/lib/python3.11/site-packages (from dvc>=2.18.1->CFEDemands>=0.4.1->-r requirements.txt (line 5)) (1.9.0)\n",
      "Collecting dpath<3,>=2.1.0 (from dvc>=2.18.1->CFEDemands>=0.4.1->-r requirements.txt (line 5))\n",
      "  Downloading dpath-2.2.0-py3-none-any.whl.metadata (15 kB)\n",
      "Collecting dulwich (from dvc>=2.18.1->CFEDemands>=0.4.1->-r requirements.txt (line 5))\n",
      "  Downloading dulwich-0.22.8-cp311-cp311-manylinux_2_17_x86_64.manylinux2014_x86_64.whl.metadata (4.9 kB)\n",
      "Collecting dvc-data<3.17,>=3.16.2 (from dvc>=2.18.1->CFEDemands>=0.4.1->-r requirements.txt (line 5))\n",
      "  Downloading dvc_data-3.16.9-py3-none-any.whl.metadata (5.0 kB)\n",
      "Collecting dvc-http>=2.29.0 (from dvc>=2.18.1->CFEDemands>=0.4.1->-r requirements.txt (line 5))\n",
      "  Downloading dvc_http-2.32.0-py3-none-any.whl.metadata (1.3 kB)\n",
      "Collecting dvc-objects (from dvc>=2.18.1->CFEDemands>=0.4.1->-r requirements.txt (line 5))\n",
      "  Downloading dvc_objects-5.1.0-py3-none-any.whl.metadata (3.7 kB)\n",
      "Collecting dvc-render<2,>=1.0.1 (from dvc>=2.18.1->CFEDemands>=0.4.1->-r requirements.txt (line 5))\n",
      "  Downloading dvc_render-1.0.2-py3-none-any.whl.metadata (5.4 kB)\n",
      "Collecting dvc-studio-client<1,>=0.21 (from dvc>=2.18.1->CFEDemands>=0.4.1->-r requirements.txt (line 5))\n",
      "  Downloading dvc_studio_client-0.21.0-py3-none-any.whl.metadata (4.3 kB)\n",
      "Collecting dvc-task<1,>=0.3.0 (from dvc>=2.18.1->CFEDemands>=0.4.1->-r requirements.txt (line 5))\n",
      "  Downloading dvc_task-0.40.2-py3-none-any.whl.metadata (10.0 kB)\n",
      "Collecting flatten_dict<1,>=0.4.1 (from dvc>=2.18.1->CFEDemands>=0.4.1->-r requirements.txt (line 5))\n",
      "  Downloading flatten_dict-0.4.2-py2.py3-none-any.whl.metadata (9.2 kB)\n",
      "Collecting flufl.lock<9,>=8.1.0 (from dvc>=2.18.1->CFEDemands>=0.4.1->-r requirements.txt (line 5))\n",
      "  Downloading flufl_lock-8.1.0-py3-none-any.whl.metadata (3.3 kB)\n",
      "Collecting fsspec>=2024.2.0 (from dvc>=2.18.1->CFEDemands>=0.4.1->-r requirements.txt (line 5))\n",
      "  Using cached fsspec-2025.3.2-py3-none-any.whl.metadata (11 kB)\n",
      "Collecting funcy>=1.14 (from dvc>=2.18.1->CFEDemands>=0.4.1->-r requirements.txt (line 5))\n",
      "  Downloading funcy-2.0-py2.py3-none-any.whl.metadata (5.9 kB)\n",
      "Collecting grandalf<1,>=0.7 (from dvc>=2.18.1->CFEDemands>=0.4.1->-r requirements.txt (line 5))\n",
      "  Downloading grandalf-0.8-py3-none-any.whl.metadata (1.7 kB)\n",
      "Collecting gto<2,>=1.6.0 (from dvc>=2.18.1->CFEDemands>=0.4.1->-r requirements.txt (line 5))\n",
      "  Downloading gto-1.7.2-py3-none-any.whl.metadata (4.7 kB)\n",
      "Collecting hydra-core>=1.1 (from dvc>=2.18.1->CFEDemands>=0.4.1->-r requirements.txt (line 5))\n",
      "  Downloading hydra_core-1.3.2-py3-none-any.whl.metadata (5.5 kB)\n",
      "Collecting iterative-telemetry>=0.0.7 (from dvc>=2.18.1->CFEDemands>=0.4.1->-r requirements.txt (line 5))\n",
      "  Downloading iterative_telemetry-0.0.10-py3-none-any.whl.metadata (4.1 kB)\n",
      "Collecting kombu (from dvc>=2.18.1->CFEDemands>=0.4.1->-r requirements.txt (line 5))\n",
      "  Downloading kombu-5.5.3-py3-none-any.whl.metadata (3.5 kB)\n",
      "Requirement already satisfied: networkx>=2.5 in /srv/conda/lib/python3.11/site-packages (from dvc>=2.18.1->CFEDemands>=0.4.1->-r requirements.txt (line 5)) (3.4.2)\n",
      "Collecting omegaconf (from dvc>=2.18.1->CFEDemands>=0.4.1->-r requirements.txt (line 5))\n",
      "  Downloading omegaconf-2.3.0-py3-none-any.whl.metadata (3.9 kB)\n",
      "Requirement already satisfied: packaging>=19 in /srv/conda/lib/python3.11/site-packages (from dvc>=2.18.1->CFEDemands>=0.4.1->-r requirements.txt (line 5)) (24.2)\n",
      "Collecting pathspec>=0.10.3 (from dvc>=2.18.1->CFEDemands>=0.4.1->-r requirements.txt (line 5))\n",
      "  Downloading pathspec-0.12.1-py3-none-any.whl.metadata (21 kB)\n",
      "Requirement already satisfied: platformdirs<5,>=3.1.1 in /srv/conda/lib/python3.11/site-packages (from dvc>=2.18.1->CFEDemands>=0.4.1->-r requirements.txt (line 5)) (4.3.6)\n",
      "Requirement already satisfied: psutil>=5.8 in /srv/conda/lib/python3.11/site-packages (from dvc>=2.18.1->CFEDemands>=0.4.1->-r requirements.txt (line 5)) (5.9.8)\n",
      "Collecting pydot>=1.2.4 (from dvc>=2.18.1->CFEDemands>=0.4.1->-r requirements.txt (line 5))\n",
      "  Downloading pydot-3.0.4-py3-none-any.whl.metadata (10 kB)\n",
      "Collecting pygtrie>=2.3.2 (from dvc>=2.18.1->CFEDemands>=0.4.1->-r requirements.txt (line 5))\n",
      "  Downloading pygtrie-2.5.0-py3-none-any.whl.metadata (7.5 kB)\n",
      "Requirement already satisfied: pyparsing>=2.4.7 in /srv/conda/lib/python3.11/site-packages (from dvc>=2.18.1->CFEDemands>=0.4.1->-r requirements.txt (line 5)) (3.2.3)\n",
      "Requirement already satisfied: requests>=2.22 in /srv/conda/lib/python3.11/site-packages (from dvc>=2.18.1->CFEDemands>=0.4.1->-r requirements.txt (line 5)) (2.32.3)\n",
      "Requirement already satisfied: rich>=12 in /srv/conda/lib/python3.11/site-packages (from dvc>=2.18.1->CFEDemands>=0.4.1->-r requirements.txt (line 5)) (13.9.4)\n",
      "Requirement already satisfied: ruamel.yaml>=0.17.11 in /srv/conda/lib/python3.11/site-packages (from dvc>=2.18.1->CFEDemands>=0.4.1->-r requirements.txt (line 5)) (0.18.10)\n",
      "Collecting scmrepo<4,>=3.3.8 (from dvc>=2.18.1->CFEDemands>=0.4.1->-r requirements.txt (line 5))\n",
      "  Downloading scmrepo-3.3.10-py3-none-any.whl.metadata (4.8 kB)\n",
      "Collecting shortuuid>=0.5 (from dvc>=2.18.1->CFEDemands>=0.4.1->-r requirements.txt (line 5))\n",
      "  Downloading shortuuid-1.0.13-py3-none-any.whl.metadata (5.8 kB)\n",
      "Collecting shtab<2,>=1.3.4 (from dvc>=2.18.1->CFEDemands>=0.4.1->-r requirements.txt (line 5))\n",
      "  Downloading shtab-1.7.2-py3-none-any.whl.metadata (7.4 kB)\n",
      "Collecting tabulate>=0.8.7 (from dvc>=2.18.1->CFEDemands>=0.4.1->-r requirements.txt (line 5))\n",
      "  Downloading tabulate-0.9.0-py3-none-any.whl.metadata (34 kB)\n",
      "Collecting tomlkit>=0.11.1 (from dvc>=2.18.1->CFEDemands>=0.4.1->-r requirements.txt (line 5))\n",
      "  Downloading tomlkit-0.13.2-py3-none-any.whl.metadata (2.7 kB)\n",
      "Requirement already satisfied: tqdm<5,>=4.63.1 in /srv/conda/lib/python3.11/site-packages (from dvc>=2.18.1->CFEDemands>=0.4.1->-r requirements.txt (line 5)) (4.67.1)\n",
      "Collecting voluptuous>=0.11.7 (from dvc>=2.18.1->CFEDemands>=0.4.1->-r requirements.txt (line 5))\n",
      "  Downloading voluptuous-0.15.2-py3-none-any.whl.metadata (20 kB)\n",
      "Collecting zc.lockfile>=1.2.1 (from dvc>=2.18.1->CFEDemands>=0.4.1->-r requirements.txt (line 5))\n",
      "  Downloading zc.lockfile-3.0.post1-py3-none-any.whl.metadata (6.2 kB)\n",
      "Requirement already satisfied: cachetools<6.0,>=2.0.0 in /srv/conda/lib/python3.11/site-packages (from google-auth>=1.12.0->gspread>=5.0.1->-r requirements.txt (line 7)) (5.5.2)\n",
      "Requirement already satisfied: requests-oauthlib>=0.7.0 in /srv/conda/lib/python3.11/site-packages (from google-auth-oauthlib>=0.4.1->gspread>=5.0.1->-r requirements.txt (line 7)) (2.0.0)\n",
      "Requirement already satisfied: contourpy>=1.0.1 in /srv/conda/lib/python3.11/site-packages (from matplotlib>=3.5.1->CFEDemands>=0.4.1->-r requirements.txt (line 5)) (1.3.1)\n",
      "Requirement already satisfied: cycler>=0.10 in /srv/conda/lib/python3.11/site-packages (from matplotlib>=3.5.1->CFEDemands>=0.4.1->-r requirements.txt (line 5)) (0.12.1)\n",
      "Requirement already satisfied: fonttools>=4.22.0 in /srv/conda/lib/python3.11/site-packages (from matplotlib>=3.5.1->CFEDemands>=0.4.1->-r requirements.txt (line 5)) (4.56.0)\n",
      "Requirement already satisfied: kiwisolver>=1.3.1 in /srv/conda/lib/python3.11/site-packages (from matplotlib>=3.5.1->CFEDemands>=0.4.1->-r requirements.txt (line 5)) (1.4.7)\n",
      "Requirement already satisfied: pillow>=8 in /srv/conda/lib/python3.11/site-packages (from matplotlib>=3.5.1->CFEDemands>=0.4.1->-r requirements.txt (line 5)) (11.1.0)\n",
      "Requirement already satisfied: python-dateutil>=2.7 in /srv/conda/lib/python3.11/site-packages (from matplotlib>=3.5.1->CFEDemands>=0.4.1->-r requirements.txt (line 5)) (2.9.0.post0)\n",
      "Requirement already satisfied: pytz>=2020.1 in /srv/conda/lib/python3.11/site-packages (from pandas>=1.4.2->CFEDemands>=0.4.1->-r requirements.txt (line 5)) (2024.1)\n",
      "Requirement already satisfied: tzdata>=2022.7 in /srv/conda/lib/python3.11/site-packages (from pandas>=1.4.2->CFEDemands>=0.4.1->-r requirements.txt (line 5)) (2025.2)\n",
      "Requirement already satisfied: iniconfig in /srv/conda/lib/python3.11/site-packages (from pytest>=7.1.1->CFEDemands>=0.4.1->-r requirements.txt (line 5)) (2.0.0)\n",
      "Requirement already satisfied: pluggy<2,>=1.5 in /srv/conda/lib/python3.11/site-packages (from pytest>=7.1.1->CFEDemands>=0.4.1->-r requirements.txt (line 5)) (1.5.0)\n",
      "Requirement already satisfied: click>=7.0 in /srv/conda/lib/python3.11/site-packages (from ray>=2.0.0->CFEDemands>=0.4.1->-r requirements.txt (line 5)) (8.1.8)\n",
      "Collecting filelock (from ray>=2.0.0->CFEDemands>=0.4.1->-r requirements.txt (line 5))\n",
      "  Downloading filelock-3.18.0-py3-none-any.whl.metadata (2.9 kB)\n",
      "Requirement already satisfied: jsonschema in /srv/conda/lib/python3.11/site-packages (from ray>=2.0.0->CFEDemands>=0.4.1->-r requirements.txt (line 5)) (4.23.0)\n",
      "Collecting msgpack<2.0.0,>=1.0.0 (from ray>=2.0.0->CFEDemands>=0.4.1->-r requirements.txt (line 5))\n",
      "  Downloading msgpack-1.1.0-cp311-cp311-manylinux_2_17_x86_64.manylinux2014_x86_64.whl.metadata (8.4 kB)\n",
      "Requirement already satisfied: protobuf!=3.19.5,>=3.15.3 in /srv/conda/lib/python3.11/site-packages (from ray>=2.0.0->CFEDemands>=0.4.1->-r requirements.txt (line 5)) (5.29.3)\n",
      "Requirement already satisfied: pyyaml in /srv/conda/lib/python3.11/site-packages (from ray>=2.0.0->CFEDemands>=0.4.1->-r requirements.txt (line 5)) (6.0.2)\n",
      "Requirement already satisfied: aiosignal in /srv/conda/lib/python3.11/site-packages (from ray>=2.0.0->CFEDemands>=0.4.1->-r requirements.txt (line 5)) (1.3.2)\n",
      "Requirement already satisfied: frozenlist in /srv/conda/lib/python3.11/site-packages (from ray>=2.0.0->CFEDemands>=0.4.1->-r requirements.txt (line 5)) (1.5.0)\n",
      "Requirement already satisfied: patsy>=0.5.6 in /srv/conda/lib/python3.11/site-packages (from statsmodels>=0.13.2->CFEDemands>=0.4.1->-r requirements.txt (line 5)) (1.0.1)\n",
      "Collecting dictdiffer>=0.8.1 (from dvc-data<3.17,>=3.16.2->dvc>=2.18.1->CFEDemands>=0.4.1->-r requirements.txt (line 5))\n",
      "  Downloading dictdiffer-0.9.0-py2.py3-none-any.whl.metadata (4.8 kB)\n",
      "Collecting diskcache>=5.2.1 (from dvc-data<3.17,>=3.16.2->dvc>=2.18.1->CFEDemands>=0.4.1->-r requirements.txt (line 5))\n",
      "  Downloading diskcache-5.6.3-py3-none-any.whl.metadata (20 kB)\n",
      "Collecting sqltrie<1,>=0.11.0 (from dvc-data<3.17,>=3.16.2->dvc>=2.18.1->CFEDemands>=0.4.1->-r requirements.txt (line 5))\n",
      "  Downloading sqltrie-0.11.2-py3-none-any.whl.metadata (3.3 kB)\n",
      "Collecting orjson<4,>=3 (from dvc-data<3.17,>=3.16.2->dvc>=2.18.1->CFEDemands>=0.4.1->-r requirements.txt (line 5))\n",
      "  Downloading orjson-3.10.16-cp311-cp311-manylinux_2_17_x86_64.manylinux2014_x86_64.whl.metadata (41 kB)\n",
      "Collecting aiohttp-retry>=2.5.0 (from dvc-http>=2.29.0->dvc>=2.18.1->CFEDemands>=0.4.1->-r requirements.txt (line 5))\n",
      "  Downloading aiohttp_retry-2.9.1-py3-none-any.whl.metadata (8.8 kB)\n",
      "Collecting billiard<5.0,>=4.2.1 (from celery->dvc>=2.18.1->CFEDemands>=0.4.1->-r requirements.txt (line 5))\n",
      "  Downloading billiard-4.2.1-py3-none-any.whl.metadata (4.4 kB)\n",
      "Collecting vine<6.0,>=5.1.0 (from celery->dvc>=2.18.1->CFEDemands>=0.4.1->-r requirements.txt (line 5))\n",
      "  Downloading vine-5.1.0-py3-none-any.whl.metadata (2.7 kB)\n",
      "Collecting click-didyoumean>=0.3.0 (from celery->dvc>=2.18.1->CFEDemands>=0.4.1->-r requirements.txt (line 5))\n",
      "  Downloading click_didyoumean-0.3.1-py3-none-any.whl.metadata (3.9 kB)\n",
      "Collecting click-repl>=0.2.0 (from celery->dvc>=2.18.1->CFEDemands>=0.4.1->-r requirements.txt (line 5))\n",
      "  Downloading click_repl-0.3.0-py3-none-any.whl.metadata (3.6 kB)\n",
      "Collecting click-plugins>=1.1.1 (from celery->dvc>=2.18.1->CFEDemands>=0.4.1->-r requirements.txt (line 5))\n",
      "  Using cached click_plugins-1.1.1-py2.py3-none-any.whl.metadata (6.4 kB)\n",
      "Requirement already satisfied: atpublic in /srv/conda/lib/python3.11/site-packages (from flufl.lock<9,>=8.1.0->dvc>=2.18.1->CFEDemands>=0.4.1->-r requirements.txt (line 5)) (4.1.0)\n",
      "Collecting entrypoints (from gto<2,>=1.6.0->dvc>=2.18.1->CFEDemands>=0.4.1->-r requirements.txt (line 5))\n",
      "  Downloading entrypoints-0.4-py3-none-any.whl.metadata (2.6 kB)\n",
      "Requirement already satisfied: pydantic!=2.0.0,<3,>=1.9.0 in /srv/conda/lib/python3.11/site-packages (from gto<2,>=1.6.0->dvc>=2.18.1->CFEDemands>=0.4.1->-r requirements.txt (line 5)) (2.10.5)\n",
      "Collecting semver>=2.13.0 (from gto<2,>=1.6.0->dvc>=2.18.1->CFEDemands>=0.4.1->-r requirements.txt (line 5))\n",
      "  Downloading semver-3.0.4-py3-none-any.whl.metadata (6.8 kB)\n",
      "Requirement already satisfied: typer>=0.4.1 in /srv/conda/lib/python3.11/site-packages (from gto<2,>=1.6.0->dvc>=2.18.1->CFEDemands>=0.4.1->-r requirements.txt (line 5)) (0.15.2)\n",
      "Collecting antlr4-python3-runtime==4.9.* (from hydra-core>=1.1->dvc>=2.18.1->CFEDemands>=0.4.1->-r requirements.txt (line 5))\n",
      "  Downloading antlr4-python3-runtime-4.9.3.tar.gz (117 kB)\n",
      "  Preparing metadata (setup.py) ... \u001b[?25ldone\n",
      "\u001b[?25hCollecting appdirs (from iterative-telemetry>=0.0.7->dvc>=2.18.1->CFEDemands>=0.4.1->-r requirements.txt (line 5))\n",
      "  Using cached appdirs-1.4.4-py2.py3-none-any.whl.metadata (9.0 kB)\n",
      "Collecting amqp<6.0.0,>=5.1.1 (from kombu->dvc>=2.18.1->CFEDemands>=0.4.1->-r requirements.txt (line 5))\n",
      "  Downloading amqp-5.3.1-py3-none-any.whl.metadata (8.9 kB)\n",
      "Requirement already satisfied: charset_normalizer<4,>=2 in /srv/conda/lib/python3.11/site-packages (from requests>=2.22->dvc>=2.18.1->CFEDemands>=0.4.1->-r requirements.txt (line 5)) (3.4.0)\n",
      "Requirement already satisfied: idna<4,>=2.5 in /srv/conda/lib/python3.11/site-packages (from requests>=2.22->dvc>=2.18.1->CFEDemands>=0.4.1->-r requirements.txt (line 5)) (3.10)\n",
      "Requirement already satisfied: urllib3<3,>=1.21.1 in /srv/conda/lib/python3.11/site-packages (from requests>=2.22->dvc>=2.18.1->CFEDemands>=0.4.1->-r requirements.txt (line 5)) (2.3.0)\n",
      "Requirement already satisfied: certifi>=2017.4.17 in /srv/conda/lib/python3.11/site-packages (from requests>=2.22->dvc>=2.18.1->CFEDemands>=0.4.1->-r requirements.txt (line 5)) (2025.1.31)\n",
      "Requirement already satisfied: oauthlib>=3.0.0 in /srv/conda/lib/python3.11/site-packages (from requests-oauthlib>=0.7.0->google-auth-oauthlib>=0.4.1->gspread>=5.0.1->-r requirements.txt (line 7)) (3.2.2)\n",
      "Requirement already satisfied: markdown-it-py>=2.2.0 in /srv/conda/lib/python3.11/site-packages (from rich>=12->dvc>=2.18.1->CFEDemands>=0.4.1->-r requirements.txt (line 5)) (3.0.0)\n",
      "Requirement already satisfied: pygments<3.0.0,>=2.13.0 in /srv/conda/lib/python3.11/site-packages (from rich>=12->dvc>=2.18.1->CFEDemands>=0.4.1->-r requirements.txt (line 5)) (2.19.1)\n",
      "Requirement already satisfied: ruamel.yaml.clib>=0.2.7 in /srv/conda/lib/python3.11/site-packages (from ruamel.yaml>=0.17.11->dvc>=2.18.1->CFEDemands>=0.4.1->-r requirements.txt (line 5)) (0.2.8)\n",
      "Requirement already satisfied: gitpython>3 in /srv/conda/lib/python3.11/site-packages (from scmrepo<4,>=3.3.8->dvc>=2.18.1->CFEDemands>=0.4.1->-r requirements.txt (line 5)) (3.1.44)\n",
      "Collecting pygit2>=1.14.0 (from scmrepo<4,>=3.3.8->dvc>=2.18.1->CFEDemands>=0.4.1->-r requirements.txt (line 5))\n",
      "  Downloading pygit2-1.17.0-cp311-cp311-manylinux_2_17_x86_64.manylinux2014_x86_64.whl.metadata (3.3 kB)\n",
      "Collecting asyncssh<3,>=2.13.1 (from scmrepo<4,>=3.3.8->dvc>=2.18.1->CFEDemands>=0.4.1->-r requirements.txt (line 5))\n",
      "  Downloading asyncssh-2.20.0-py3-none-any.whl.metadata (9.9 kB)\n",
      "Requirement already satisfied: setuptools in /srv/conda/lib/python3.11/site-packages (from zc.lockfile>=1.2.1->dvc>=2.18.1->CFEDemands>=0.4.1->-r requirements.txt (line 5)) (75.6.0)\n",
      "Requirement already satisfied: jsonschema-specifications>=2023.03.6 in /srv/conda/lib/python3.11/site-packages (from jsonschema->ray>=2.0.0->CFEDemands>=0.4.1->-r requirements.txt (line 5)) (2024.10.1)\n",
      "Requirement already satisfied: referencing>=0.28.4 in /srv/conda/lib/python3.11/site-packages (from jsonschema->ray>=2.0.0->CFEDemands>=0.4.1->-r requirements.txt (line 5)) (0.36.2)\n",
      "Requirement already satisfied: rpds-py>=0.7.1 in /srv/conda/lib/python3.11/site-packages (from jsonschema->ray>=2.0.0->CFEDemands>=0.4.1->-r requirements.txt (line 5)) (0.24.0)\n",
      "Requirement already satisfied: aiohttp in /srv/conda/lib/python3.11/site-packages (from aiohttp-retry>=2.5.0->dvc-http>=2.29.0->dvc>=2.18.1->CFEDemands>=0.4.1->-r requirements.txt (line 5)) (3.11.16)\n",
      "Requirement already satisfied: cryptography>=39.0 in /srv/conda/lib/python3.11/site-packages (from asyncssh<3,>=2.13.1->scmrepo<4,>=3.3.8->dvc>=2.18.1->CFEDemands>=0.4.1->-r requirements.txt (line 5)) (44.0.2)\n",
      "Requirement already satisfied: typing_extensions>=4.0.0 in /srv/conda/lib/python3.11/site-packages (from asyncssh<3,>=2.13.1->scmrepo<4,>=3.3.8->dvc>=2.18.1->CFEDemands>=0.4.1->-r requirements.txt (line 5)) (4.12.2)\n",
      "Requirement already satisfied: prompt-toolkit>=3.0.36 in /srv/conda/lib/python3.11/site-packages (from click-repl>=0.2.0->celery->dvc>=2.18.1->CFEDemands>=0.4.1->-r requirements.txt (line 5)) (3.0.50)\n",
      "Requirement already satisfied: gitdb<5,>=4.0.1 in /srv/conda/lib/python3.11/site-packages (from gitpython>3->scmrepo<4,>=3.3.8->dvc>=2.18.1->CFEDemands>=0.4.1->-r requirements.txt (line 5)) (4.0.12)\n",
      "Requirement already satisfied: mdurl~=0.1 in /srv/conda/lib/python3.11/site-packages (from markdown-it-py>=2.2.0->rich>=12->dvc>=2.18.1->CFEDemands>=0.4.1->-r requirements.txt (line 5)) (0.1.2)\n",
      "Requirement already satisfied: annotated-types>=0.6.0 in /srv/conda/lib/python3.11/site-packages (from pydantic!=2.0.0,<3,>=1.9.0->gto<2,>=1.6.0->dvc>=2.18.1->CFEDemands>=0.4.1->-r requirements.txt (line 5)) (0.7.0)\n",
      "Requirement already satisfied: pydantic-core==2.27.2 in /srv/conda/lib/python3.11/site-packages (from pydantic!=2.0.0,<3,>=1.9.0->gto<2,>=1.6.0->dvc>=2.18.1->CFEDemands>=0.4.1->-r requirements.txt (line 5)) (2.27.2)\n",
      "Requirement already satisfied: cffi>=1.17.0 in /srv/conda/lib/python3.11/site-packages (from pygit2>=1.14.0->scmrepo<4,>=3.3.8->dvc>=2.18.1->CFEDemands>=0.4.1->-r requirements.txt (line 5)) (1.17.1)\n",
      "Requirement already satisfied: shellingham>=1.3.0 in /srv/conda/lib/python3.11/site-packages (from typer>=0.4.1->gto<2,>=1.6.0->dvc>=2.18.1->CFEDemands>=0.4.1->-r requirements.txt (line 5)) (1.5.4)\n",
      "Requirement already satisfied: aiohappyeyeballs>=2.3.0 in /srv/conda/lib/python3.11/site-packages (from aiohttp->aiohttp-retry>=2.5.0->dvc-http>=2.29.0->dvc>=2.18.1->CFEDemands>=0.4.1->-r requirements.txt (line 5)) (2.6.1)\n",
      "Requirement already satisfied: multidict<7.0,>=4.5 in /srv/conda/lib/python3.11/site-packages (from aiohttp->aiohttp-retry>=2.5.0->dvc-http>=2.29.0->dvc>=2.18.1->CFEDemands>=0.4.1->-r requirements.txt (line 5)) (6.2.0)\n",
      "Requirement already satisfied: propcache>=0.2.0 in /srv/conda/lib/python3.11/site-packages (from aiohttp->aiohttp-retry>=2.5.0->dvc-http>=2.29.0->dvc>=2.18.1->CFEDemands>=0.4.1->-r requirements.txt (line 5)) (0.2.1)\n",
      "Requirement already satisfied: yarl<2.0,>=1.17.0 in /srv/conda/lib/python3.11/site-packages (from aiohttp->aiohttp-retry>=2.5.0->dvc-http>=2.29.0->dvc>=2.18.1->CFEDemands>=0.4.1->-r requirements.txt (line 5)) (1.18.3)\n",
      "Requirement already satisfied: pycparser in /srv/conda/lib/python3.11/site-packages (from cffi>=1.17.0->pygit2>=1.14.0->scmrepo<4,>=3.3.8->dvc>=2.18.1->CFEDemands>=0.4.1->-r requirements.txt (line 5)) (2.22)\n",
      "Requirement already satisfied: smmap<6,>=3.0.1 in /srv/conda/lib/python3.11/site-packages (from gitdb<5,>=4.0.1->gitpython>3->scmrepo<4,>=3.3.8->dvc>=2.18.1->CFEDemands>=0.4.1->-r requirements.txt (line 5)) (5.0.2)\n",
      "Requirement already satisfied: wcwidth in /srv/conda/lib/python3.11/site-packages (from prompt-toolkit>=3.0.36->click-repl>=0.2.0->celery->dvc>=2.18.1->CFEDemands>=0.4.1->-r requirements.txt (line 5)) (0.2.13)\n",
      "Downloading CFEDemands-0.6.1-py2.py3-none-any.whl (45 kB)\n",
      "Using cached gspread_pandas-3.3.0-py2.py3-none-any.whl (27 kB)\n",
      "Downloading oauth2client-4.1.3-py2.py3-none-any.whl (98 kB)\n",
      "Using cached eep153_tools-0.12.4-py2.py3-none-any.whl (4.9 kB)\n",
      "Using cached python_gnupg-0.5.4-py2.py3-none-any.whl (21 kB)\n",
      "Using cached ConsumerDemands-0.4.3.dev0-py2.py3-none-any.whl (12 kB)\n",
      "Downloading dvc-3.59.1-py3-none-any.whl (457 kB)\n",
      "Downloading ray-2.44.1-cp311-cp311-manylinux2014_x86_64.whl (68.1 MB)\n",
      "\u001b[2K   \u001b[90m━━━━━━━━━━━━━━━━━━━━━━━━━━━━━━━━━━━━━━━━\u001b[0m \u001b[32m68.1/68.1 MB\u001b[0m \u001b[31m98.2 MB/s\u001b[0m eta \u001b[36m0:00:00\u001b[0m:00:01\u001b[0m00:01\u001b[0m\n",
      "\u001b[?25hDownloading configobj-5.0.9-py2.py3-none-any.whl (35 kB)\n",
      "Downloading dpath-2.2.0-py3-none-any.whl (17 kB)\n",
      "Downloading dvc_data-3.16.9-py3-none-any.whl (77 kB)\n",
      "Downloading dvc_http-2.32.0-py3-none-any.whl (12 kB)\n",
      "Downloading dvc_objects-5.1.0-py3-none-any.whl (33 kB)\n",
      "Downloading dvc_render-1.0.2-py3-none-any.whl (22 kB)\n",
      "Downloading dvc_studio_client-0.21.0-py3-none-any.whl (16 kB)\n",
      "Downloading dvc_task-0.40.2-py3-none-any.whl (21 kB)\n",
      "Downloading celery-5.5.1-py3-none-any.whl (438 kB)\n",
      "Downloading flatten_dict-0.4.2-py2.py3-none-any.whl (9.7 kB)\n",
      "Downloading flufl_lock-8.1.0-py3-none-any.whl (11 kB)\n",
      "Using cached fsspec-2025.3.2-py3-none-any.whl (194 kB)\n",
      "Downloading funcy-2.0-py2.py3-none-any.whl (30 kB)\n",
      "Downloading grandalf-0.8-py3-none-any.whl (41 kB)\n",
      "Downloading gto-1.7.2-py3-none-any.whl (45 kB)\n",
      "Downloading hydra_core-1.3.2-py3-none-any.whl (154 kB)\n",
      "Downloading iterative_telemetry-0.0.10-py3-none-any.whl (10 kB)\n",
      "Downloading kombu-5.5.3-py3-none-any.whl (209 kB)\n",
      "Downloading vine-5.1.0-py3-none-any.whl (9.6 kB)\n",
      "Downloading msgpack-1.1.0-cp311-cp311-manylinux_2_17_x86_64.manylinux2014_x86_64.whl (403 kB)\n",
      "Downloading omegaconf-2.3.0-py3-none-any.whl (79 kB)\n",
      "Downloading pathspec-0.12.1-py3-none-any.whl (31 kB)\n",
      "Downloading pydot-3.0.4-py3-none-any.whl (35 kB)\n",
      "Downloading pygtrie-2.5.0-py3-none-any.whl (25 kB)\n",
      "Downloading scmrepo-3.3.10-py3-none-any.whl (73 kB)\n",
      "Downloading dulwich-0.22.8-cp311-cp311-manylinux_2_17_x86_64.manylinux2014_x86_64.whl (1.0 MB)\n",
      "\u001b[2K   \u001b[90m━━━━━━━━━━━━━━━━━━━━━━━━━━━━━━━━━━━━━━━━\u001b[0m \u001b[32m1.0/1.0 MB\u001b[0m \u001b[31m16.2 MB/s\u001b[0m eta \u001b[36m0:00:00\u001b[0m\n",
      "Downloading shortuuid-1.0.13-py3-none-any.whl (10 kB)\n",
      "Downloading shtab-1.7.2-py3-none-any.whl (14 kB)\n",
      "Downloading tabulate-0.9.0-py3-none-any.whl (35 kB)\n",
      "Downloading tomlkit-0.13.2-py3-none-any.whl (37 kB)\n",
      "Downloading voluptuous-0.15.2-py3-none-any.whl (31 kB)\n",
      "Downloading zc.lockfile-3.0.post1-py3-none-any.whl (9.8 kB)\n",
      "Downloading filelock-3.18.0-py3-none-any.whl (16 kB)\n",
      "Downloading aiohttp_retry-2.9.1-py3-none-any.whl (10.0 kB)\n",
      "Downloading amqp-5.3.1-py3-none-any.whl (50 kB)\n",
      "Downloading asyncssh-2.20.0-py3-none-any.whl (373 kB)\n",
      "Downloading billiard-4.2.1-py3-none-any.whl (86 kB)\n",
      "Downloading click_didyoumean-0.3.1-py3-none-any.whl (3.6 kB)\n",
      "Using cached click_plugins-1.1.1-py2.py3-none-any.whl (7.5 kB)\n",
      "Downloading click_repl-0.3.0-py3-none-any.whl (10 kB)\n",
      "Downloading dictdiffer-0.9.0-py2.py3-none-any.whl (16 kB)\n",
      "Downloading diskcache-5.6.3-py3-none-any.whl (45 kB)\n",
      "Downloading orjson-3.10.16-cp311-cp311-manylinux_2_17_x86_64.manylinux2014_x86_64.whl (132 kB)\n",
      "Downloading pygit2-1.17.0-cp311-cp311-manylinux_2_17_x86_64.manylinux2014_x86_64.whl (5.5 MB)\n",
      "\u001b[2K   \u001b[90m━━━━━━━━━━━━━━━━━━━━━━━━━━━━━━━━━━━━━━━━\u001b[0m \u001b[32m5.5/5.5 MB\u001b[0m \u001b[31m52.5 MB/s\u001b[0m eta \u001b[36m0:00:00\u001b[0m\n",
      "\u001b[?25hDownloading semver-3.0.4-py3-none-any.whl (17 kB)\n",
      "Downloading sqltrie-0.11.2-py3-none-any.whl (17 kB)\n",
      "Using cached appdirs-1.4.4-py2.py3-none-any.whl (9.6 kB)\n",
      "Downloading entrypoints-0.4-py3-none-any.whl (5.3 kB)\n",
      "Building wheels for collected packages: antlr4-python3-runtime\n",
      "  Building wheel for antlr4-python3-runtime (setup.py) ... \u001b[?25done\n",
      "\u001b[?25h  Created wheel for antlr4-python3-runtime: filename=antlr4_python3_runtime-4.9.3-py3-none-any.whl size=144554 sha256=7998d4749a28ae2f8ae9c075c5eae5b7721f2e8a0fba62a29087c426323a7584\n",
      "  Stored in directory: /home/jovyan/.cache/pip/wheels/1a/97/32/461f837398029ad76911109f07047fde1d7b661a147c7c56d1\n",
      "Successfully built antlr4-python3-runtime\n",
      "Installing collected packages: python-gnupg, pygtrie, funcy, eep153_tools, dictdiffer, ConsumerDemands, appdirs, antlr4-python3-runtime, zc.lockfile, voluptuous, vine, tomlkit, tabulate, shtab, shortuuid, semver, pydot, pathspec, orjson, omegaconf, msgpack, grandalf, fsspec, flufl.lock, flatten_dict, filelock, entrypoints, dvc-render, dulwich, dpath, diskcache, configobj, click-plugins, click-didyoumean, billiard, sqltrie, pygit2, oauth2client, iterative-telemetry, hydra-core, dvc-studio-client, dvc-objects, click-repl, amqp, kombu, dvc-data, asyncssh, aiohttp-retry, scmrepo, ray, dvc-http, celery, gto, gspread_pandas, dvc-task, dvc, CFEDemands\n",
      "  Attempting uninstall: gspread_pandas\n",
      "    Found existing installation: gspread-pandas 2.2.3\n",
      "    Uninstalling gspread-pandas-2.2.3:\n",
      "      Successfully uninstalled gspread-pandas-2.2.3\n",
      "Successfully installed CFEDemands-0.6.1 ConsumerDemands-0.4.3.dev0 aiohttp-retry-2.9.1 amqp-5.3.1 antlr4-python3-runtime-4.9.3 appdirs-1.4.4 asyncssh-2.20.0 billiard-4.2.1 celery-5.5.1 click-didyoumean-0.3.1 click-plugins-1.1.1 click-repl-0.3.0 configobj-5.0.9 dictdiffer-0.9.0 diskcache-5.6.3 dpath-2.2.0 dulwich-0.22.8 dvc-3.59.1 dvc-data-3.16.9 dvc-http-2.32.0 dvc-objects-5.1.0 dvc-render-1.0.2 dvc-studio-client-0.21.0 dvc-task-0.40.2 eep153_tools-0.12.4 entrypoints-0.4 filelock-3.18.0 flatten_dict-0.4.2 flufl.lock-8.1.0 fsspec-2025.3.2 funcy-2.0 grandalf-0.8 gspread_pandas-3.3.0 gto-1.7.2 hydra-core-1.3.2 iterative-telemetry-0.0.10 kombu-5.5.3 msgpack-1.1.0 oauth2client-4.1.3 omegaconf-2.3.0 orjson-3.10.16 pathspec-0.12.1 pydot-3.0.4 pygit2-1.17.0 pygtrie-2.5.0 python-gnupg-0.5.4 ray-2.44.1 scmrepo-3.3.10 semver-3.0.4 shortuuid-1.0.13 shtab-1.7.2 sqltrie-0.11.2 tabulate-0.9.0 tomlkit-0.13.2 vine-5.1.0 voluptuous-0.15.2 zc.lockfile-3.0.post1\n",
      "Note: you may need to restart the kernel to use updated packages.\n"
     ]
    }
   ],
   "source": [
    "%pip install -r requirements.txt"
   ]
  },
  {
   "cell_type": "code",
   "execution_count": 5,
   "id": "c5d0deea-77cd-4126-b584-b72e2871250c",
   "metadata": {},
   "outputs": [],
   "source": [
    "import pandas as pd\n",
    "import cfe.regression as rgsn"
   ]
  },
  {
   "cell_type": "markdown",
   "id": "aa13533e-b692-4a92-9f28-0779f9856934",
   "metadata": {},
   "source": [
    "### From Sheet to DataFrame to Regression Object\n",
    "\n"
   ]
  },
  {
   "cell_type": "markdown",
   "id": "2e82ab1a-15cd-46ea-bbed-3ed3e24e1a8a",
   "metadata": {},
   "source": [
    "We begin by defining a dictionary that contains the spreadsheet key.\n",
    "One is provided for the Ugandan example that I wish to work\n",
    "through.\n",
    "\n"
   ]
  },
  {
   "cell_type": "code",
   "execution_count": 7,
   "id": "99c1915f-fe41-4949-9bc2-8128f2cb6c17",
   "metadata": {},
   "outputs": [],
   "source": [
    "Ethiopia_Data = '1qOZi1FqAS89x461pCIgwRaAfpBw5aUp7kBbp0tQKI_E'"
   ]
  },
  {
   "cell_type": "markdown",
   "id": "f0789bd8-bde2-497b-a972-864d18cc2022",
   "metadata": {},
   "source": [
    "With the spreadsheet defined , grab it and define a couple of\n",
    "dataframes. (Sheets should be shared with `students@eep153.iam.gserviceaccount.com`):\n",
    "\n"
   ]
  },
  {
   "cell_type": "code",
   "execution_count": 10,
   "id": "f79aa1ce-f649-4448-aca1-9bccefd14513",
   "metadata": {},
   "outputs": [],
   "source": [
    "import pandas as pd\n",
    "import numpy as np\n",
    "from eep153_tools.sheets import read_sheets\n",
    "\n",
    "# Change 'Uganda_Data' to key of your own sheet in Sheets, above\n",
    "x = read_sheets(Ethiopia_Data,sheet='Food Expenditures (2018-19)')\n",
    "x = x.set_index(['i','t','m','j']).squeeze()\n",
    "\n",
    "\n",
    "# Now prices\n",
    "p = read_sheets(Ethiopia_Data,sheet='Food Prices (2018-19)').set_index(['t','m','j','u'])\n",
    "\n",
    "# Compute medians of prices for particular time, place and unit\n",
    "p = p.groupby(['t','m','j','u']).median()\n",
    "\n",
    "# Just keep metric units\n",
    "p = p.xs('Kg',level=\"u\").squeeze().unstack('j')\n",
    "\n",
    "# Get intersection of goods we have prices *and* expenditures for:\n",
    "jidx = p.columns.intersection(x.index.levels[-1])\n",
    "\n",
    "# Drop prices for goods we don't have expenditures for\n",
    "p = p[jidx].T\n",
    "\n",
    "# Household characteristics\n",
    "d = read_sheets(Ethiopia_Data,sheet=\"Household Characteristics\")\n",
    "d.columns.name = 'k'\n",
    "\n",
    "# Fill blanks with zeros\n",
    "d = d.replace(np.nan,0)\n",
    "\n",
    "# Expenditures x may have duplicate columns\n",
    "x = x.T.groupby(['i','t','m','j']).sum()\n",
    "x = x.replace(0,np.nan) # Replace zeros with missing\n",
    "\n",
    "# Take logs of expenditures; call this y\n",
    "y = np.log(x)\n",
    "\n",
    "d.set_index(['i','t','m'],inplace=True)"
   ]
  },
  {
   "cell_type": "markdown",
   "id": "f1fe8270-ba0b-487a-9f8d-0c3c355735da",
   "metadata": {},
   "source": [
    "This gives a dataframe of household characteristics $d$ with a simple structure.\n",
    "\n"
   ]
  },
  {
   "cell_type": "code",
   "execution_count": 11,
   "id": "f0353864-8c55-43da-829e-4e2662792728",
   "metadata": {},
   "outputs": [
    {
     "data": {
      "text/html": [
       "<div>\n",
       "<style scoped>\n",
       "    .dataframe tbody tr th:only-of-type {\n",
       "        vertical-align: middle;\n",
       "    }\n",
       "\n",
       "    .dataframe tbody tr th {\n",
       "        vertical-align: top;\n",
       "    }\n",
       "\n",
       "    .dataframe thead th {\n",
       "        text-align: right;\n",
       "    }\n",
       "</style>\n",
       "<table border=\"1\" class=\"dataframe\">\n",
       "  <thead>\n",
       "    <tr style=\"text-align: right;\">\n",
       "      <th></th>\n",
       "      <th></th>\n",
       "      <th>k</th>\n",
       "      <th>Females 00-03</th>\n",
       "      <th>Females 04-08</th>\n",
       "      <th>Females 09-13</th>\n",
       "      <th>Females 14-18</th>\n",
       "      <th>Females 19-30</th>\n",
       "      <th>Females 31-50</th>\n",
       "      <th>Females 51-99</th>\n",
       "      <th>Males 00-03</th>\n",
       "      <th>Males 04-08</th>\n",
       "      <th>Males 09-13</th>\n",
       "      <th>Males 14-18</th>\n",
       "      <th>Males 19-30</th>\n",
       "      <th>Males 31-50</th>\n",
       "      <th>Males 51-99</th>\n",
       "      <th>log HSize</th>\n",
       "    </tr>\n",
       "    <tr>\n",
       "      <th>i</th>\n",
       "      <th>t</th>\n",
       "      <th>m</th>\n",
       "      <th></th>\n",
       "      <th></th>\n",
       "      <th></th>\n",
       "      <th></th>\n",
       "      <th></th>\n",
       "      <th></th>\n",
       "      <th></th>\n",
       "      <th></th>\n",
       "      <th></th>\n",
       "      <th></th>\n",
       "      <th></th>\n",
       "      <th></th>\n",
       "      <th></th>\n",
       "      <th></th>\n",
       "      <th></th>\n",
       "    </tr>\n",
       "  </thead>\n",
       "  <tbody>\n",
       "    <tr>\n",
       "      <th rowspan=\"3\" valign=\"top\">1010101601002</th>\n",
       "      <th>2011-12</th>\n",
       "      <th>Tigray</th>\n",
       "      <td>0</td>\n",
       "      <td>0</td>\n",
       "      <td>1</td>\n",
       "      <td>0</td>\n",
       "      <td>0</td>\n",
       "      <td>1</td>\n",
       "      <td>1</td>\n",
       "      <td>0</td>\n",
       "      <td>1</td>\n",
       "      <td>1</td>\n",
       "      <td>1</td>\n",
       "      <td>0</td>\n",
       "      <td>1</td>\n",
       "      <td>0</td>\n",
       "      <td>1.945910</td>\n",
       "    </tr>\n",
       "    <tr>\n",
       "      <th>2013-14</th>\n",
       "      <th>Tigray</th>\n",
       "      <td>1</td>\n",
       "      <td>1</td>\n",
       "      <td>1</td>\n",
       "      <td>0</td>\n",
       "      <td>0</td>\n",
       "      <td>1</td>\n",
       "      <td>1</td>\n",
       "      <td>0</td>\n",
       "      <td>1</td>\n",
       "      <td>0</td>\n",
       "      <td>1</td>\n",
       "      <td>0</td>\n",
       "      <td>1</td>\n",
       "      <td>0</td>\n",
       "      <td>2.079442</td>\n",
       "    </tr>\n",
       "    <tr>\n",
       "      <th>2015-16</th>\n",
       "      <th>Tigray</th>\n",
       "      <td>0</td>\n",
       "      <td>0</td>\n",
       "      <td>0</td>\n",
       "      <td>0</td>\n",
       "      <td>0</td>\n",
       "      <td>0</td>\n",
       "      <td>1</td>\n",
       "      <td>0</td>\n",
       "      <td>0</td>\n",
       "      <td>0</td>\n",
       "      <td>0</td>\n",
       "      <td>0</td>\n",
       "      <td>0</td>\n",
       "      <td>0</td>\n",
       "      <td>0.000000</td>\n",
       "    </tr>\n",
       "    <tr>\n",
       "      <th rowspan=\"2\" valign=\"top\">1010101601017</th>\n",
       "      <th>2011-12</th>\n",
       "      <th>Tigray</th>\n",
       "      <td>0</td>\n",
       "      <td>1</td>\n",
       "      <td>1</td>\n",
       "      <td>0</td>\n",
       "      <td>0</td>\n",
       "      <td>1</td>\n",
       "      <td>0</td>\n",
       "      <td>0</td>\n",
       "      <td>0</td>\n",
       "      <td>2</td>\n",
       "      <td>0</td>\n",
       "      <td>0</td>\n",
       "      <td>1</td>\n",
       "      <td>0</td>\n",
       "      <td>1.791759</td>\n",
       "    </tr>\n",
       "    <tr>\n",
       "      <th>2013-14</th>\n",
       "      <th>Tigray</th>\n",
       "      <td>1</td>\n",
       "      <td>1</td>\n",
       "      <td>1</td>\n",
       "      <td>0</td>\n",
       "      <td>1</td>\n",
       "      <td>0</td>\n",
       "      <td>0</td>\n",
       "      <td>0</td>\n",
       "      <td>1</td>\n",
       "      <td>1</td>\n",
       "      <td>1</td>\n",
       "      <td>0</td>\n",
       "      <td>1</td>\n",
       "      <td>0</td>\n",
       "      <td>2.079442</td>\n",
       "    </tr>\n",
       "  </tbody>\n",
       "</table>\n",
       "</div>"
      ],
      "text/plain": [
       "k                             Females 00-03  Females 04-08  Females 09-13  \\\n",
       "i             t       m                                                     \n",
       "1010101601002 2011-12 Tigray              0              0              1   \n",
       "              2013-14 Tigray              1              1              1   \n",
       "              2015-16 Tigray              0              0              0   \n",
       "1010101601017 2011-12 Tigray              0              1              1   \n",
       "              2013-14 Tigray              1              1              1   \n",
       "\n",
       "k                             Females 14-18  Females 19-30  Females 31-50  \\\n",
       "i             t       m                                                     \n",
       "1010101601002 2011-12 Tigray              0              0              1   \n",
       "              2013-14 Tigray              0              0              1   \n",
       "              2015-16 Tigray              0              0              0   \n",
       "1010101601017 2011-12 Tigray              0              0              1   \n",
       "              2013-14 Tigray              0              1              0   \n",
       "\n",
       "k                             Females 51-99  Males 00-03  Males 04-08  \\\n",
       "i             t       m                                                 \n",
       "1010101601002 2011-12 Tigray              1            0            1   \n",
       "              2013-14 Tigray              1            0            1   \n",
       "              2015-16 Tigray              1            0            0   \n",
       "1010101601017 2011-12 Tigray              0            0            0   \n",
       "              2013-14 Tigray              0            0            1   \n",
       "\n",
       "k                             Males 09-13  Males 14-18  Males 19-30  \\\n",
       "i             t       m                                               \n",
       "1010101601002 2011-12 Tigray            1            1            0   \n",
       "              2013-14 Tigray            0            1            0   \n",
       "              2015-16 Tigray            0            0            0   \n",
       "1010101601017 2011-12 Tigray            2            0            0   \n",
       "              2013-14 Tigray            1            1            0   \n",
       "\n",
       "k                             Males 31-50  Males 51-99  log HSize  \n",
       "i             t       m                                            \n",
       "1010101601002 2011-12 Tigray            1            0   1.945910  \n",
       "              2013-14 Tigray            1            0   2.079442  \n",
       "              2015-16 Tigray            0            0   0.000000  \n",
       "1010101601017 2011-12 Tigray            1            0   1.791759  \n",
       "              2013-14 Tigray            1            0   2.079442  "
      ]
     },
     "execution_count": 11,
     "metadata": {},
     "output_type": "execute_result"
    }
   ],
   "source": [
    "d.head()"
   ]
  },
  {
   "cell_type": "markdown",
   "id": "b5773c76-6a4d-4111-bdd0-339ad5efc0a7",
   "metadata": {},
   "source": [
    "Also a dataframe of log expenditures $y$ with a similarly simple\n",
    "structure.  Note that any expenditures of zero are dropped and\n",
    "replaced with a missing value indicator.\n",
    "\n"
   ]
  },
  {
   "cell_type": "code",
   "execution_count": 12,
   "id": "49791bd9-14b3-4fc5-b94f-673a51a90866",
   "metadata": {},
   "outputs": [
    {
     "data": {
      "text/plain": [
       "i                   t        m       j     \n",
       "010101088800910007  2018-19  Tigray  Coffee    3.401197\n",
       "                                     Onion     2.197225\n",
       "                                     Salt      1.098612\n",
       "                                     Shiro     2.484907\n",
       "                                     Sugar     2.484907\n",
       "Name: Expenditure, dtype: float64"
      ]
     },
     "execution_count": 12,
     "metadata": {},
     "output_type": "execute_result"
    }
   ],
   "source": [
    "y.head()"
   ]
  },
  {
   "cell_type": "markdown",
   "id": "074aaaf5-8731-4f58-85f2-bbeba74ba0d6",
   "metadata": {},
   "source": [
    "Finally, construct a regression object:\n",
    "\n"
   ]
  },
  {
   "cell_type": "code",
   "execution_count": 13,
   "id": "09431232-7698-41d7-97d2-ae19e00cad5a",
   "metadata": {},
   "outputs": [],
   "source": [
    "r = rgsn.Regression(y=y,d=d)"
   ]
  },
  {
   "cell_type": "markdown",
   "id": "fed1b3fd-b018-4337-a6d7-9913b846fa85",
   "metadata": {},
   "source": [
    "### Additional Data\n",
    "\n"
   ]
  },
  {
   "cell_type": "markdown",
   "id": "84522b0f-f693-47f9-9860-48f3c0ca48dc",
   "metadata": {},
   "source": [
    "Using the data on household characteristics and (log) expenditures, we can estimate the demand system (`d`,=y=).  This gives us predictions of expenditures on different kinds of foods.  Then if we divide these expenditures by prices, we get predicted quantities of food.\n",
    "\n",
    "However, here we&rsquo;re interested in nutritional outcomes, so we need a food conversion table:\n",
    "\n"
   ]
  },
  {
   "cell_type": "code",
   "execution_count": 1,
   "id": "84e2b2d6-bdca-436b-8167-d798e2f2b36c",
   "metadata": {},
   "outputs": [],
   "source": [
    "fct = read_sheets(Uganda_Data,sheet='FCT')\n",
    "\n",
    "fct = fct.set_index('j')\n",
    "fct.columns.name = 'n'\n",
    "\n",
    "fct = fct.apply(lambda x: pd.to_numeric(x,errors='coerce'))"
   ]
  },
  {
   "cell_type": "markdown",
   "id": "50d7cb40-7d0f-4947-9e66-e7f4420c6fe2",
   "metadata": {},
   "source": [
    "We also want to establish when nutrition is *adequate* for households with different compositions.  For this, we want data on recommended dietary intakes:\n",
    "\n"
   ]
  },
  {
   "cell_type": "code",
   "execution_count": 1,
   "id": "e20dd052-acda-4ebe-8b51-d275187627be",
   "metadata": {},
   "outputs": [],
   "source": [
    "rdi = read_sheets(Uganda_Data,sheet='RDI')\n",
    "\n",
    "rdi = rdi.set_index('n')\n",
    "rdi.columns.name = 'k'\n",
    "\n",
    "rdi = rdi.apply(lambda x: pd.to_numeric(x,errors='coerce'))"
   ]
  },
  {
   "cell_type": "markdown",
   "id": "45bb00d8-ea34-4517-819a-103f690d0f82",
   "metadata": {},
   "source": [
    "#### Pre-estimated Demand Systems\n",
    "\n"
   ]
  },
  {
   "cell_type": "markdown",
   "id": "3caf1309-6fad-4af0-aa84-9563ca0cd8dc",
   "metadata": {},
   "source": [
    "An instance `r` of `cfe.Regression` can be made persistent with\n",
    " `r.to_pickle('my_result.pickle')`, which saves the instance &ldquo;on disk&rdquo;, and can be loaded using `cfe.regression.read_pickle`.  We use  this method below to load data and demand system previously estimated for Uganda:\n",
    "\n"
   ]
  },
  {
   "cell_type": "code",
   "execution_count": 1,
   "id": "f833e9bc-1da4-44d7-85e0-e55a8fa9342c",
   "metadata": {},
   "outputs": [],
   "source": [
    "# Assumes you've already set this up e.g., in Project 3\n",
    "r = rgsn.read_pickle('../Project3/uganda_estimates.rgsn')"
   ]
  },
  {
   "cell_type": "markdown",
   "id": "fc4b3f96-93c3-4e5c-9659-0758de3cf4a5",
   "metadata": {},
   "source": [
    "#### Reference Prices\n",
    "\n"
   ]
  },
  {
   "cell_type": "markdown",
   "id": "a5a3bee8-522d-4a11-954a-c148f10a6a6c",
   "metadata": {},
   "source": [
    "Choose reference prices.  Here we&rsquo;ll choose a particular year, and average prices across markets.  If you wanted to focus on particular market you&rsquo;d do this differently.\n",
    "\n"
   ]
  },
  {
   "cell_type": "code",
   "execution_count": 1,
   "id": "8bd6d46d-46cf-4264-b0f2-c2f36e92150c",
   "metadata": {},
   "outputs": [],
   "source": [
    "# Reference prices chosen from a particular time; average across place.\n",
    "# These are prices per kilogram:\n",
    "pbar = p.loc[r.beta.index].mean(axis=1).fillna(1) # Only use prices for goods we can estimate"
   ]
  },
  {
   "cell_type": "markdown",
   "id": "81a817c1-67b3-4837-8c79-6027d0f2ee9b",
   "metadata": {},
   "source": [
    "#### Budgets\n",
    "\n"
   ]
  },
  {
   "cell_type": "markdown",
   "id": "6e4f68e8-d55c-4295-be23-33d9ba90f843",
   "metadata": {},
   "source": [
    "Get food budget for all households, then find median budget:\n",
    "\n"
   ]
  },
  {
   "cell_type": "code",
   "execution_count": 1,
   "id": "abfd9071-dc7f-4085-9e55-c6872783ebe3",
   "metadata": {},
   "outputs": [],
   "source": [
    "import numpy as np\n",
    "\n",
    "xhat = r.predicted_expenditures()\n",
    "\n",
    "# Total food expenditures per household\n",
    "xbar = xhat.groupby(['i','t','m']).sum()\n",
    "\n",
    "# Reference budget\n",
    "xref = xbar.quantile(0.5)  # Household at 0.5 quantile is median"
   ]
  },
  {
   "cell_type": "markdown",
   "id": "cfe279c5-5318-494f-ae51-c93c3687c699",
   "metadata": {},
   "source": [
    "#### Food Quantities\n",
    "\n"
   ]
  },
  {
   "cell_type": "markdown",
   "id": "85cdb46b-a278-4b89-ab17-232a86eadfdf",
   "metadata": {},
   "source": [
    "Get quantities of food by dividing expenditures by prices:\n",
    "\n"
   ]
  },
  {
   "cell_type": "code",
   "execution_count": 1,
   "id": "b57a83a3-ece8-435d-8781-718115ef4d03",
   "metadata": {},
   "outputs": [],
   "source": [
    "qhat = (xhat.unstack('j')/pbar).dropna(how='all')\n",
    "\n",
    "# Drop missing columns\n",
    "qhat = qhat.loc[:,qhat.count()>0]\n",
    "\n",
    "qhat"
   ]
  },
  {
   "cell_type": "markdown",
   "id": "07d0b33d-17dc-4ec2-b6f7-a49e584bde2b",
   "metadata": {},
   "source": [
    "Finally, define a function to change a single price in the vector $p$:\n",
    "\n"
   ]
  },
  {
   "cell_type": "code",
   "execution_count": 1,
   "id": "f213c1a6-1824-469b-a40d-7f068f70af60",
   "metadata": {},
   "outputs": [],
   "source": [
    "def my_prices(j,p0,p=pbar):\n",
    "    \"\"\"\n",
    "    Change price of jth good to p0, holding other prices fixed at p.\n",
    "    \"\"\"\n",
    "    p = p.copy()\n",
    "    p.loc[j] = p0\n",
    "    return p"
   ]
  },
  {
   "cell_type": "markdown",
   "id": "df11bece-c9c3-41b6-9320-afa12b26f49f",
   "metadata": {},
   "source": [
    "### Demands\n",
    "\n"
   ]
  },
  {
   "cell_type": "markdown",
   "id": "4386c1ff-83c0-4d19-9721-5bb7d1ffb3ed",
   "metadata": {},
   "source": [
    "#### Demand functions\n",
    "\n"
   ]
  },
  {
   "cell_type": "code",
   "execution_count": 1,
   "id": "5f5de6f2-4661-4294-9a97-577053c56b85",
   "metadata": {},
   "outputs": [],
   "source": [
    "%matplotlib inline"
   ]
  },
  {
   "cell_type": "code",
   "execution_count": 1,
   "id": "f5c051f1-557a-43ed-ba74-09090c657085",
   "metadata": {},
   "outputs": [],
   "source": [
    "import matplotlib.pyplot as plt\n",
    "\n",
    "use = 'Matoke'  # Good we want demand curve for\n",
    "\n",
    "# Vary prices from 50% to 200% of reference.\n",
    "scale = np.linspace(.5,2,20)\n",
    "\n",
    "# Demand for Matoke for household at median budget\n",
    "plt.plot([r.demands(xref,my_prices(use,pbar[use]*s,pbar))[use] for s in scale],scale)\n",
    "\n",
    "# Demand for Matoke for household at 25% percentile\n",
    "plt.plot([r.demands(xbar.quantile(0.25),my_prices(use,pbar[use]*s,pbar))[use] for s in scale],scale)\n",
    "\n",
    "# Demand for Matoke for household at 75% percentile\n",
    "plt.plot([r.demands(xbar.quantile(0.75),my_prices(use,pbar[use]*s,pbar))[use] for s in scale],scale)\n",
    "\n",
    "plt.ylabel(f\"Price (relative to base of {pbar[use]:.2f})\")\n",
    "plt.xlabel(f\"Quantities of {use} Demanded\")"
   ]
  },
  {
   "cell_type": "markdown",
   "id": "c47cccfb-7279-4b42-a60e-76e9521c9744",
   "metadata": {},
   "source": [
    "#### Engel Curves\n",
    "\n"
   ]
  },
  {
   "cell_type": "code",
   "execution_count": 1,
   "id": "c3e04706-90a0-433b-80b5-0674e335374c",
   "metadata": {},
   "outputs": [],
   "source": [
    "fig,ax = plt.subplots()\n",
    "\n",
    "scale = np.geomspace(.01,10,50)\n",
    "\n",
    "ax.plot(np.log(scale*xref),[r.expenditures(s*xref,pbar)/(s*xref) for s in scale])\n",
    "ax.set_xlabel(f'log budget (relative to base of {xref:.0f})')\n",
    "ax.set_ylabel(f'Expenditure share')\n",
    "ax.set_title('Engel Curves')"
   ]
  },
  {
   "cell_type": "markdown",
   "id": "0bba2c81-b6b6-4b61-96e1-55f0558dcb53",
   "metadata": {},
   "source": [
    "### Mapping to Nutrients\n",
    "\n"
   ]
  },
  {
   "cell_type": "markdown",
   "id": "6851fa62-37fd-4fc4-999f-28f95cf52af3",
   "metadata": {},
   "source": [
    "We&rsquo;ve seen how to map prices and budgets into vectors of consumption\n",
    " quantities using `cfe.Regression.demands`.  Next we want to think about\n",
    " how to map these into bundles of *nutrients*.  The information needed\n",
    " for the mapping comes from a &ldquo;Food Conversion Table&rdquo; (or database,\n",
    " such as the [USDA Food Data Central](https://fdc.nal.usda.gov/)).    We&rsquo;ve already grabbed an FCT, let&rsquo;s take a look:\n",
    "\n"
   ]
  },
  {
   "cell_type": "code",
   "execution_count": 1,
   "id": "18e766ec-b23d-4541-bdee-4e74ca9cd752",
   "metadata": {},
   "outputs": [],
   "source": [
    "fct"
   ]
  },
  {
   "cell_type": "markdown",
   "id": "db795949-9826-43c6-b2e3-66232144b1f3",
   "metadata": {},
   "source": [
    "We need the index of the Food Conversion Table (FCT) to match up with\n",
    " the index of the vector of quantities demanded.   To manage this we\n",
    " make use of the `align` method for `pd.DataFrames`:\n",
    "\n"
   ]
  },
  {
   "cell_type": "code",
   "execution_count": 1,
   "id": "a998d411-1862-464e-99b1-7cdf52b9655b",
   "metadata": {},
   "outputs": [],
   "source": [
    "# Create a new FCT and vector of consumption that only share rows in common:\n",
    "fct0,c0 = fct.align(qhat.T,axis=0,join='inner')\n",
    "print(fct0.index)"
   ]
  },
  {
   "cell_type": "markdown",
   "id": "8508519c-822f-44b2-8d6b-d2d4a83b095d",
   "metadata": {},
   "source": [
    "Now, since rows of `fct0` and `c0` match, we can obtain nutritional\n",
    " outcomes from the inner (or dot, or matrix) product of the transposed\n",
    " `fct0` and `c0`:\n",
    "\n"
   ]
  },
  {
   "cell_type": "code",
   "execution_count": 1,
   "id": "8ab5cb4b-573b-4368-a3cc-8e44ba798d05",
   "metadata": {},
   "outputs": [],
   "source": [
    "# The @ operator means matrix multiply\n",
    "N = fct0.T@c0\n",
    "\n",
    "N  #NB: Uganda quantities are for previous 7 days"
   ]
  },
  {
   "cell_type": "markdown",
   "id": "54f0e01e-9ace-419a-8f7d-a94b87becfde",
   "metadata": {},
   "source": [
    "Of course, since we can compute the nutritional content of a vector of\n",
    " consumption goods `c0`, we can also use our demand functions to\n",
    " compute nutrition as a *function* of prices and budget.\n",
    "\n"
   ]
  },
  {
   "cell_type": "code",
   "execution_count": 1,
   "id": "86fcd806-e5f9-43aa-9f4b-fd59c87fb690",
   "metadata": {},
   "outputs": [],
   "source": [
    "def nutrient_demand(x,p):\n",
    "    c = r.demands(x,p)\n",
    "    fct0,c0 = fct.align(c,axis=0,join='inner')\n",
    "    N = fct0.T@c0\n",
    "\n",
    "    N = N.loc[~N.index.duplicated()]\n",
    "    \n",
    "    return N"
   ]
  },
  {
   "cell_type": "markdown",
   "id": "32a2659b-25c3-4806-a405-4c7462193a8e",
   "metadata": {},
   "source": [
    "With this `nutrient_demand` function in hand, we can see how nutrient\n",
    " outcomes vary with budget, given prices:\n",
    "\n"
   ]
  },
  {
   "cell_type": "code",
   "execution_count": 1,
   "id": "e0afbbdd-64d2-4c76-bbc2-25d931e8ddaf",
   "metadata": {},
   "outputs": [],
   "source": [
    "import numpy as np\n",
    "import matplotlib.pyplot as plt\n",
    "\n",
    "X = np.linspace(xref/5,xref*5,50)\n",
    "\n",
    "UseNutrients = ['Protein','Energy','Iron','Calcium','Vitamin C']\n",
    "\n",
    "df = pd.concat({myx:np.log(nutrient_demand(myx,pbar))[UseNutrients] for myx in X},axis=1).T\n",
    "ax = df.plot()\n",
    "\n",
    "ax.set_xlabel('log budget')\n",
    "ax.set_ylabel('log nutrient')"
   ]
  },
  {
   "cell_type": "markdown",
   "id": "d3c5160e-d413-47fe-a42b-77e5a6c07da7",
   "metadata": {},
   "source": [
    "Now how does nutrition vary with prices?\n",
    "\n"
   ]
  },
  {
   "cell_type": "code",
   "execution_count": 1,
   "id": "b4bf8058-b5d3-4dae-ae3b-042ef6448253",
   "metadata": {},
   "outputs": [],
   "source": [
    "USE_GOOD = 'Oranges'\n",
    "\n",
    "scale = np.geomspace(.01,10,50)\n",
    "\n",
    "ndf = pd.DataFrame({s:np.log(nutrient_demand(xref/2,my_prices(USE_GOOD,pbar[USE_GOOD]*s)))[UseNutrients] for s in scale}).T\n",
    "\n",
    "ax = ndf.plot()\n",
    "\n",
    "ax.set_xlabel('log price')\n",
    "ax.set_ylabel('log nutrient')"
   ]
  },
  {
   "cell_type": "markdown",
   "id": "8328aaca-c7e5-402c-b8a5-382f45e2ef03",
   "metadata": {},
   "source": [
    "### Nutritional Needs of Households\n",
    "\n"
   ]
  },
  {
   "cell_type": "markdown",
   "id": "2e0b5f11-f3d2-45c2-b0bf-0927c9a2c5b2",
   "metadata": {},
   "source": [
    "Our data on demand and nutrients is at the *household* level; we\n",
    "   can&rsquo;t directly compare household level nutrition with individual\n",
    "   level requirements.  What we **can** do is add up minimum individual\n",
    "   requirements, and see whether household total exceed these.  This\n",
    "   isn&rsquo;t a guarantee that all individuals have adequate nutrition\n",
    "   (since the way food is allocated in the household might be quite\n",
    "   unequal, or unrelated to individual requirements), but it is\n",
    "   *necessary* if all individuals are to have adequate nutrition.\n",
    "\n",
    "For the average household in our data, the number of\n",
    "different kinds of people can be computed by averaging over households:\n",
    "\n"
   ]
  },
  {
   "cell_type": "code",
   "execution_count": 1,
   "id": "4d87fc1b-03ad-45aa-ae9c-bc57256cae47",
   "metadata": {},
   "outputs": [],
   "source": [
    "# In first round, averaged over households and villages\n",
    "dbar = r.d[rdi.columns].mean()"
   ]
  },
  {
   "cell_type": "markdown",
   "id": "93e50778-8fa3-4968-b809-acd3482b8cf2",
   "metadata": {},
   "source": [
    "Now, the inner/dot/matrix product between `dbar` and the `rdi`\n",
    "DataFrame of requirements will give us minimum requirements for the\n",
    "average household:\n",
    "\n"
   ]
  },
  {
   "cell_type": "code",
   "execution_count": 1,
   "id": "d94951c6-7b56-458e-b3db-c56eda66a61c",
   "metadata": {},
   "outputs": [],
   "source": [
    "# This matrix product gives minimum nutrient requirements for\n",
    "# the average household\n",
    "hh_rdi = rdi@dbar\n",
    "\n",
    "hh_rdi"
   ]
  },
  {
   "cell_type": "markdown",
   "id": "5f700c80-1141-4ffb-b3cf-3d6b244f4932",
   "metadata": {},
   "source": [
    "## Nutritional Adequacy of Food Demands\n",
    "\n"
   ]
  },
  {
   "cell_type": "markdown",
   "id": "60eca3fc-cca0-4afb-a02c-544d052d9a9e",
   "metadata": {},
   "source": [
    "Since we can trace out demands for nutrients as a function of $(x,p)$,\n",
    "and we&rsquo;ve computed minimum nutritional requirements for the average\n",
    "household, we can *normalize* nutritional intake to check the adequacy\n",
    "of diet for a household with counts of different kinds of people given by `z`.\n",
    "\n"
   ]
  },
  {
   "cell_type": "code",
   "execution_count": 1,
   "id": "192298cb-5df7-436b-ab70-0b6dda5217fb",
   "metadata": {},
   "outputs": [],
   "source": [
    "def nutrient_adequacy_ratio(x,p,d,rdi=rdi,days=7):\n",
    "    hh_rdi = rdi.replace('',0)@d*days\n",
    "\n",
    "    return nutrient_demand(x,p)/hh_rdi"
   ]
  },
  {
   "cell_type": "markdown",
   "id": "994b844e-9f88-4727-b27c-995a168c2905",
   "metadata": {},
   "source": [
    "In terms of normalized nutrients, any household with more than one\n",
    "unit of any given nutrient (or zero in logs) will be consuming a\n",
    "minimally adequate level of the nutrient; below this level there&rsquo;s\n",
    "clearly nutritional inadequacy.  For this reason the ratio of\n",
    "actual nutrients to required nutrients is termed the &ldquo;nutrient\n",
    "adequacy ratio,&rdquo; or NAR.\n",
    "\n"
   ]
  },
  {
   "cell_type": "code",
   "execution_count": 1,
   "id": "76a4f53e-c69b-4c9c-a049-ca46706ed41b",
   "metadata": {},
   "outputs": [],
   "source": [
    "X = np.geomspace(.01*xref,2*xref,100)\n",
    "\n",
    "pd.DataFrame({x:np.log(nutrient_adequacy_ratio(x,pbar,dbar))[UseNutrients] for x in X}).T.plot()\n",
    "plt.legend(UseNutrients)\n",
    "plt.xlabel('budget')\n",
    "plt.ylabel('log nutrient adequacy ratio')\n",
    "plt.axhline(0)\n",
    "plt.axvline(xref)"
   ]
  },
  {
   "cell_type": "markdown",
   "id": "ca87b652-1a68-40a9-88c2-3c24686f7d84",
   "metadata": {},
   "source": [
    "As before, we can also vary relative prices.  Here we trace out\n",
    "nutritional adequacy varying the price of a single good:\n",
    "\n"
   ]
  },
  {
   "cell_type": "code",
   "execution_count": 1,
   "id": "3b270130-e355-4844-b1ce-e6061389711a",
   "metadata": {},
   "outputs": [],
   "source": [
    "scale = np.geomspace(.01,2,50)\n",
    "\n",
    "ndf = pd.DataFrame({s*pbar[USE_GOOD]:np.log(nutrient_adequacy_ratio(xref/4,my_prices(USE_GOOD,pbar[USE_GOOD]*s),dbar))[UseNutrients] for s in scale}).T\n",
    "\n",
    "fig,ax = plt.subplots()\n",
    "ax.plot(ndf['Vitamin C'],ndf.index)\n",
    "ax.axhline(pbar[USE_GOOD])\n",
    "ax.axvline(0)\n",
    "\n",
    "ax.set_ylabel('Price')\n",
    "ax.set_xlabel('log nutrient adequacy ratio')"
   ]
  }
 ],
 "metadata": {
  "kernelspec": {
   "display_name": "Python 3 (ipykernel)",
   "language": "python",
   "name": "python3"
  },
  "language_info": {
   "codemirror_mode": {
    "name": "ipython",
    "version": 3
   },
   "file_extension": ".py",
   "mimetype": "text/x-python",
   "name": "python",
   "nbconvert_exporter": "python",
   "pygments_lexer": "ipython3",
   "version": "3.11.11"
  },
  "org": null
 },
 "nbformat": 4,
 "nbformat_minor": 5
}
