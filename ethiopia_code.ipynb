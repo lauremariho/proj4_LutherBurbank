{
 "cells": [
  {
   "cell_type": "markdown",
   "id": "d879e349-3021-4fcf-b5f7-19be9b834383",
   "metadata": {},
   "source": [
    "## Estimation Example\n",
    "\n"
   ]
  },
  {
   "cell_type": "markdown",
   "id": "1c231954-3ec6-41fe-8235-86aebcd02add",
   "metadata": {},
   "source": [
    "In this document we&rsquo;ll work through a simple approach to estimating\n",
    "Constant Frisch Elasticity (CFE) demand systems.\n",
    "\n",
    "There are two prerequisites; the first is the `CFEDemands` python\n",
    "module.  You may have this already, but if not it  can be installed with a simple:\n",
    "\n"
   ]
  },
  {
   "cell_type": "code",
   "execution_count": 19,
   "id": "55c13c2c-d5c6-4f6e-9d92-d07f8e91fc29",
   "metadata": {},
   "outputs": [
    {
     "name": "stdout",
     "output_type": "stream",
     "text": [
      "Requirement already satisfied: CFEDemands>=0.6.3.dev0 in /srv/conda/lib/python3.11/site-packages (from -r requirements.txt (line 5)) (0.6.4.dev0)\n",
      "Requirement already satisfied: ConsumerDemands>=0.4.3.dev0 in /srv/conda/lib/python3.11/site-packages (from -r requirements.txt (line 7)) (0.4.3.dev0)\n",
      "Requirement already satisfied: matplotlib>=3.3.4 in /srv/conda/lib/python3.11/site-packages (from -r requirements.txt (line 10)) (3.10.1)\n",
      "Requirement already satisfied: numpy>=1.21.5 in /srv/conda/lib/python3.11/site-packages (from -r requirements.txt (line 14)) (2.2.4)\n",
      "Requirement already satisfied: pandas>=1.3.5 in /srv/conda/lib/python3.11/site-packages (from -r requirements.txt (line 20)) (2.2.3)\n",
      "Requirement already satisfied: plotly>=5.1.0 in /srv/conda/lib/python3.11/site-packages (from -r requirements.txt (line 23)) (6.0.1)\n",
      "Requirement already satisfied: eep153_tools>=0.11 in /srv/conda/lib/python3.11/site-packages (from -r requirements.txt (line 25)) (0.12.4)\n",
      "Requirement already satisfied: python-gnupg in /srv/conda/lib/python3.11/site-packages (from -r requirements.txt (line 26)) (0.5.4)\n",
      "Requirement already satisfied: gspread_pandas>=3.3 in /srv/conda/lib/python3.11/site-packages (from -r requirements.txt (line 28)) (3.3.0)\n",
      "Requirement already satisfied: scikit-learn in /srv/conda/lib/python3.11/site-packages (from -r requirements.txt (line 30)) (1.6.0)\n",
      "Requirement already satisfied: xarray in /srv/conda/lib/python3.11/site-packages (from -r requirements.txt (line 31)) (2025.1.1)\n",
      "Requirement already satisfied: scipy>=1.7.3 in /srv/conda/lib/python3.11/site-packages (from CFEDemands>=0.6.3.dev0->-r requirements.txt (line 5)) (1.14.1)\n",
      "Requirement already satisfied: importlib_metadata>=6.7.0 in /srv/conda/lib/python3.11/site-packages (from CFEDemands>=0.6.3.dev0->-r requirements.txt (line 5)) (8.6.1)\n",
      "Requirement already satisfied: fsspec in /srv/conda/lib/python3.11/site-packages (from CFEDemands>=0.6.3.dev0->-r requirements.txt (line 5)) (2025.3.2)\n",
      "Requirement already satisfied: contourpy>=1.0.1 in /srv/conda/lib/python3.11/site-packages (from matplotlib>=3.3.4->-r requirements.txt (line 10)) (1.3.1)\n",
      "Requirement already satisfied: cycler>=0.10 in /srv/conda/lib/python3.11/site-packages (from matplotlib>=3.3.4->-r requirements.txt (line 10)) (0.12.1)\n",
      "Requirement already satisfied: fonttools>=4.22.0 in /srv/conda/lib/python3.11/site-packages (from matplotlib>=3.3.4->-r requirements.txt (line 10)) (4.56.0)\n",
      "Requirement already satisfied: kiwisolver>=1.3.1 in /srv/conda/lib/python3.11/site-packages (from matplotlib>=3.3.4->-r requirements.txt (line 10)) (1.4.7)\n",
      "Requirement already satisfied: packaging>=20.0 in /srv/conda/lib/python3.11/site-packages (from matplotlib>=3.3.4->-r requirements.txt (line 10)) (24.2)\n",
      "Requirement already satisfied: pillow>=8 in /srv/conda/lib/python3.11/site-packages (from matplotlib>=3.3.4->-r requirements.txt (line 10)) (11.1.0)\n",
      "Requirement already satisfied: pyparsing>=2.3.1 in /srv/conda/lib/python3.11/site-packages (from matplotlib>=3.3.4->-r requirements.txt (line 10)) (3.2.3)\n",
      "Requirement already satisfied: python-dateutil>=2.7 in /srv/conda/lib/python3.11/site-packages (from matplotlib>=3.3.4->-r requirements.txt (line 10)) (2.9.0.post0)\n",
      "Requirement already satisfied: pytz>=2020.1 in /srv/conda/lib/python3.11/site-packages (from pandas>=1.3.5->-r requirements.txt (line 20)) (2024.1)\n",
      "Requirement already satisfied: tzdata>=2022.7 in /srv/conda/lib/python3.11/site-packages (from pandas>=1.3.5->-r requirements.txt (line 20)) (2025.2)\n",
      "Requirement already satisfied: narwhals>=1.15.1 in /srv/conda/lib/python3.11/site-packages (from plotly>=5.1.0->-r requirements.txt (line 23)) (1.33.0)\n",
      "Requirement already satisfied: gspread<6,>=5.0.0 in /srv/conda/lib/python3.11/site-packages (from gspread_pandas>=3.3->-r requirements.txt (line 28)) (5.12.4)\n",
      "Requirement already satisfied: decorator in /srv/conda/lib/python3.11/site-packages (from gspread_pandas>=3.3->-r requirements.txt (line 28)) (5.1.1)\n",
      "Requirement already satisfied: google-auth in /srv/conda/lib/python3.11/site-packages (from gspread_pandas>=3.3->-r requirements.txt (line 28)) (2.38.0)\n",
      "Requirement already satisfied: google-auth-oauthlib in /srv/conda/lib/python3.11/site-packages (from gspread_pandas>=3.3->-r requirements.txt (line 28)) (1.2.1)\n",
      "Requirement already satisfied: joblib>=1.2.0 in /srv/conda/lib/python3.11/site-packages (from scikit-learn->-r requirements.txt (line 30)) (1.4.2)\n",
      "Requirement already satisfied: threadpoolctl>=3.1.0 in /srv/conda/lib/python3.11/site-packages (from scikit-learn->-r requirements.txt (line 30)) (3.6.0)\n",
      "Requirement already satisfied: cachetools<6.0,>=2.0.0 in /srv/conda/lib/python3.11/site-packages (from google-auth->gspread_pandas>=3.3->-r requirements.txt (line 28)) (5.5.2)\n",
      "Requirement already satisfied: pyasn1-modules>=0.2.1 in /srv/conda/lib/python3.11/site-packages (from google-auth->gspread_pandas>=3.3->-r requirements.txt (line 28)) (0.4.2)\n",
      "Requirement already satisfied: rsa<5,>=3.1.4 in /srv/conda/lib/python3.11/site-packages (from google-auth->gspread_pandas>=3.3->-r requirements.txt (line 28)) (4.9)\n",
      "Requirement already satisfied: requests-oauthlib>=0.7.0 in /srv/conda/lib/python3.11/site-packages (from google-auth-oauthlib->gspread_pandas>=3.3->-r requirements.txt (line 28)) (2.0.0)\n",
      "Requirement already satisfied: zipp>=3.20 in /srv/conda/lib/python3.11/site-packages (from importlib_metadata>=6.7.0->CFEDemands>=0.6.3.dev0->-r requirements.txt (line 5)) (3.21.0)\n",
      "Requirement already satisfied: six>=1.5 in /srv/conda/lib/python3.11/site-packages (from python-dateutil>=2.7->matplotlib>=3.3.4->-r requirements.txt (line 10)) (1.17.0)\n",
      "Requirement already satisfied: pyasn1<0.7.0,>=0.6.1 in /srv/conda/lib/python3.11/site-packages (from pyasn1-modules>=0.2.1->google-auth->gspread_pandas>=3.3->-r requirements.txt (line 28)) (0.6.1)\n",
      "Requirement already satisfied: oauthlib>=3.0.0 in /srv/conda/lib/python3.11/site-packages (from requests-oauthlib>=0.7.0->google-auth-oauthlib->gspread_pandas>=3.3->-r requirements.txt (line 28)) (3.2.2)\n",
      "Requirement already satisfied: requests>=2.0.0 in /srv/conda/lib/python3.11/site-packages (from requests-oauthlib>=0.7.0->google-auth-oauthlib->gspread_pandas>=3.3->-r requirements.txt (line 28)) (2.32.3)\n",
      "Requirement already satisfied: charset_normalizer<4,>=2 in /srv/conda/lib/python3.11/site-packages (from requests>=2.0.0->requests-oauthlib>=0.7.0->google-auth-oauthlib->gspread_pandas>=3.3->-r requirements.txt (line 28)) (3.4.0)\n",
      "Requirement already satisfied: idna<4,>=2.5 in /srv/conda/lib/python3.11/site-packages (from requests>=2.0.0->requests-oauthlib>=0.7.0->google-auth-oauthlib->gspread_pandas>=3.3->-r requirements.txt (line 28)) (3.10)\n",
      "Requirement already satisfied: urllib3<3,>=1.21.1 in /srv/conda/lib/python3.11/site-packages (from requests>=2.0.0->requests-oauthlib>=0.7.0->google-auth-oauthlib->gspread_pandas>=3.3->-r requirements.txt (line 28)) (2.3.0)\n",
      "Requirement already satisfied: certifi>=2017.4.17 in /srv/conda/lib/python3.11/site-packages (from requests>=2.0.0->requests-oauthlib>=0.7.0->google-auth-oauthlib->gspread_pandas>=3.3->-r requirements.txt (line 28)) (2025.1.31)\n"
     ]
    }
   ],
   "source": [
    "!pip install -r requirements.txt"
   ]
  },
  {
   "cell_type": "markdown",
   "id": "7c2a8483-27c5-480b-8e22-5a332faa4c56",
   "metadata": {},
   "source": [
    "The second prerequisite is a dataset including detailed information on\n",
    "household expenditures and characteristics.  The structure of that\n",
    "dataset is detailed in the next section.\n",
    "\n"
   ]
  },
  {
   "cell_type": "markdown",
   "id": "78fa2170-7615-4dea-8a42-7748cb0a29f8",
   "metadata": {},
   "source": [
    "### Data\n",
    "\n"
   ]
  },
  {
   "cell_type": "markdown",
   "id": "8dff4efd-5bb5-4caf-8565-f84660edfd30",
   "metadata": {},
   "source": [
    "Consider the case in which the data are saved in a google sheet; we&rsquo;ll\n",
    "turn data from these into `pandas` dataframes.\n",
    "There are limits on the allowable size of google sheets (5 million\n",
    "cells when I last checked), so if your dataset is larger than this you&rsquo;ll need some other\n",
    "mechanism to get your data into such dataframes.  Even in this latter\n",
    "case you&rsquo;ll want your dataframes to have a structure that matches the\n",
    "description given below.\n",
    "\n"
   ]
  },
  {
   "cell_type": "markdown",
   "id": "e52c8312-557c-4f56-9bed-e3076b1a586c",
   "metadata": {},
   "source": [
    "#### Structure of the Spreadsheet\n",
    "\n"
   ]
  },
  {
   "cell_type": "markdown",
   "id": "243e5ce3-0405-4c15-9e62-a22060c4d89f",
   "metadata": {},
   "source": [
    "An example spreadsheet with data for Uganda can be found at\n",
    "[https://docs.google.com/spreadsheets/d/1yFWlP5N7Aowaj6t2roRSFFUC50aFD-RLBGfzGtqLl0w/](https://docs.google.com/spreadsheets/d/1yFWlP5N7Aowaj6t2roRSFFUC50aFD-RLBGfzGtqLl0w/)\n",
    "\n",
    "This spreadsheet consists of several worksheets, labeled &ldquo;RDI&rdquo;, &ldquo;FCT&rdquo;,\n",
    "&ldquo;Household Characteristics&rdquo;, and a series of different years of food expenditures and prices\n",
    "\n",
    "Most worksheets have the initial three columns labeled &ldquo;i&rdquo;, &ldquo;t&rdquo;, and\n",
    "&ldquo;m&rdquo;; together these identify an observation uniquely.  The column &ldquo;i&rdquo;\n",
    "should include a household id; the column &ldquo;t&rdquo; should include an\n",
    "indicator for the year or period (for those of you with\n",
    "cross-sectional data these will all take a common value, e.g., 2019);\n",
    "the column &ldquo;m&rdquo; should be an indicator of &ldquo;market&rdquo;, which may be a\n",
    "region identifier, or may take a single value (e.g., &ldquo;Uganda&rdquo;).\n",
    "\n",
    "The triple (i,t,m) will serve as the index of some constructed\n",
    "dataframes.  It is important not to have **too** many different values\n",
    "for &ldquo;m&rdquo; (unless you have lots of data and RAM to play with).\n",
    "\n",
    "Beyond the first three columns, the &ldquo;Expenditures&rdquo; worksheet for a given year should have one index (or alternatively, one column) for each category of expenditures (e.g., &ldquo;Beans&rdquo;, &ldquo;Beef&rdquo;, &ldquo;Beer&rdquo;,&#x2026;).\n",
    "\n",
    "Beyond the first three columns, the &ldquo;Household Characteristics&rdquo; should\n",
    "have columns corresponding to different elements of the vector of\n",
    "observable characteristics $z$.  If the data permit, I recommend\n",
    "constructing observables that match what I have in these data:\n",
    "namely numbers of different children by age and sex, along with the\n",
    "logarithm of total household size (&ldquo;log HSize&rdquo;).\n",
    "\n"
   ]
  },
  {
   "cell_type": "markdown",
   "id": "e2e20cd8-3128-449b-9919-7626b70d1743",
   "metadata": {},
   "source": [
    "#### From Sheet to DataFrame to Regression Object\n",
    "\n"
   ]
  },
  {
   "cell_type": "markdown",
   "id": "58a940cf-0404-43fd-8c84-4ffeb9ed07ac",
   "metadata": {},
   "source": [
    "We begin by defining a dictionary that contains the spreadsheet key.\n",
    "One is provided for the Ethiopia example that I wish to work\n",
    "through.\n",
    "\n"
   ]
  },
  {
   "cell_type": "code",
   "execution_count": 20,
   "id": "90d351c4-c306-4502-9491-b9e5d4d8a6a9",
   "metadata": {},
   "outputs": [],
   "source": [
    "Ethiopia = '1qOZi1FqAS89x461pCIgwRaAfpBw5aUp7kBbp0tQKI_E'"
   ]
  },
  {
   "cell_type": "code",
   "execution_count": 21,
   "id": "2db82160-a030-42ab-ae68-b0e381b75448",
   "metadata": {},
   "outputs": [],
   "source": [
    "import pandas as pd\n",
    "import numpy as np\n",
    "from eep153_tools.sheets import read_sheets\n",
    "\n",
    "# Change 'Uganda_Data' to key of your own sheet in Sheets, above\n",
    "x = read_sheets(Ethiopia,sheet='Food Expenditures (2018-19)')\n",
    "x['i'] = x['i'].astype(str)\n",
    "x = x.set_index(['i','t','m','j']).squeeze()\n",
    "\n",
    "\n",
    "# Now prices\n",
    "p = read_sheets(Ethiopia,sheet='Food Prices (2018-19)').set_index(['t','m','j','u'])\n",
    "\n",
    "# Compute medians of prices for particular time, place and unit\n",
    "p = p.groupby(['t','m','j','u']).median()\n",
    "\n",
    "# Just keep metric units\n",
    "p = p.xs('Kg',level=\"u\").squeeze().unstack('j')\n",
    "\n",
    "# Drop prices for goods we don't have expenditures for\n",
    "p = p[x.index.levels[-1]].T\n",
    "\n",
    "# Household characteristics\n",
    "d = read_sheets(Ethiopia,sheet=\"Household Characteristics\")\n",
    "d.columns.name = 'k'\n",
    "\n",
    "# Fill blanks with zeros\n",
    "d = d.replace(np.nan,0)\n",
    "\n",
    "# Expenditures x may have duplicate columns\n",
    "x = x.T.groupby(['i','t','m','j']).sum()\n",
    "x = x.replace(0,np.nan) # Replace zeros with missing\n",
    "\n",
    "# Take logs of expenditures; call this y\n",
    "y = np.log(x)\n",
    "\n",
    "d.set_index(['i','t','m'],inplace=True)"
   ]
  },
  {
   "cell_type": "code",
   "execution_count": 22,
   "id": "7bf52300-fdc5-4412-8136-02142baec2d3",
   "metadata": {},
   "outputs": [
    {
     "ename": "ModuleNotFoundError",
     "evalue": "No module named 'example_nutrition'",
     "output_type": "error",
     "traceback": [
      "\u001b[31m---------------------------------------------------------------------------\u001b[39m",
      "\u001b[31mModuleNotFoundError\u001b[39m                       Traceback (most recent call last)",
      "\u001b[36mCell\u001b[39m\u001b[36m \u001b[39m\u001b[32mIn[22]\u001b[39m\u001b[32m, line 1\u001b[39m\n\u001b[32m----> \u001b[39m\u001b[32m1\u001b[39m \u001b[38;5;28;01mfrom\u001b[39;00m\u001b[38;5;250m \u001b[39m\u001b[34;01mexample_nutrition\u001b[39;00m\u001b[38;5;250m \u001b[39m\u001b[38;5;28;01mimport\u001b[39;00m r \u001b[38;5;28;01mas\u001b[39;00m Ethiopia\n\u001b[32m      2\u001b[39m \u001b[38;5;28;01mfrom\u001b[39;00m\u001b[38;5;250m \u001b[39m\u001b[34;01mexample_nutrition\u001b[39;00m\u001b[38;5;250m \u001b[39m\u001b[38;5;28;01mimport\u001b[39;00m rdi, nutrient_demand\n",
      "\u001b[31mModuleNotFoundError\u001b[39m: No module named 'example_nutrition'"
     ]
    }
   ],
   "source": [
    "from example_nutrition import r as Ethiopia\n",
    "from example_nutrition import rdi, nutrient_demand"
   ]
  },
  {
   "cell_type": "markdown",
   "id": "dce86db3-6f8b-4fa0-a7fa-0f1cba6b436c",
   "metadata": {},
   "source": [
    "### Ceteris Paribus\n",
    "\n"
   ]
  },
  {
   "cell_type": "markdown",
   "id": "5aec3600-c7cb-4bee-84fb-9938fc48f5db",
   "metadata": {},
   "source": [
    "We begin by setting up some benchmarks for prices and budgets, so\n",
    "    the things we don&rsquo;t want to change we can hold fixed.\n",
    "\n"
   ]
  },
  {
   "cell_type": "code",
   "execution_count": 17,
   "id": "26f813f0-4ce9-4566-aab6-780f12afc9ac",
   "metadata": {},
   "outputs": [
    {
     "ename": "ModuleNotFoundError",
     "evalue": "No module named 'example_nutrition'",
     "output_type": "error",
     "traceback": [
      "\u001b[31m---------------------------------------------------------------------------\u001b[39m",
      "\u001b[31mModuleNotFoundError\u001b[39m                       Traceback (most recent call last)",
      "\u001b[36mCell\u001b[39m\u001b[36m \u001b[39m\u001b[32mIn[17]\u001b[39m\u001b[32m, line 1\u001b[39m\n\u001b[32m----> \u001b[39m\u001b[32m1\u001b[39m \u001b[38;5;28;01mfrom\u001b[39;00m\u001b[38;5;250m \u001b[39m\u001b[34;01mexample_nutrition\u001b[39;00m\u001b[38;5;250m \u001b[39m\u001b[38;5;28;01mimport\u001b[39;00m pbar, my_prices\n",
      "\u001b[31mModuleNotFoundError\u001b[39m: No module named 'example_nutrition'"
     ]
    }
   ],
   "source": [
    "from example_nutrition import pbar, my_prices"
   ]
  },
  {
   "cell_type": "code",
   "execution_count": null,
   "id": "bab5e318-163d-4941-833e-19a28916014e",
   "metadata": {},
   "outputs": [],
   "source": []
  }
 ],
 "metadata": {
  "kernelspec": {
   "display_name": "Python 3 (ipykernel)",
   "language": "python",
   "name": "python3"
  },
  "language_info": {
   "codemirror_mode": {
    "name": "ipython",
    "version": 3
   },
   "file_extension": ".py",
   "mimetype": "text/x-python",
   "name": "python",
   "nbconvert_exporter": "python",
   "pygments_lexer": "ipython3",
   "version": "3.11.11"
  }
 },
 "nbformat": 4,
 "nbformat_minor": 5
}
